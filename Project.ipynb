{
 "cells": [
  {
   "cell_type": "code",
   "execution_count": 1,
   "id": "cb554b35",
   "metadata": {},
   "outputs": [],
   "source": [
    "import random\n",
    "from datasets import load_dataset\n",
    "import pandas as pd"
   ]
  },
  {
   "cell_type": "markdown",
   "id": "5c2b9088",
   "metadata": {},
   "source": [
    "### Canada Brands"
   ]
  },
  {
   "cell_type": "code",
   "execution_count": 37,
   "id": "ef317b48",
   "metadata": {},
   "outputs": [
    {
     "data": {
      "application/vnd.jupyter.widget-view+json": {
       "model_id": "b31535ebeefd4d8ba1e5cdaf4da8f124",
       "version_major": 2,
       "version_minor": 0
      },
      "text/plain": [
       "Downloading readme:   0%|          | 0.00/2.46k [00:00<?, ?B/s]"
      ]
     },
     "metadata": {},
     "output_type": "display_data"
    },
    {
     "name": "stdout",
     "output_type": "stream",
     "text": [
      "Downloading and preparing dataset None/None to /Users/SandeepKaur/.cache/huggingface/datasets/DBQ___parquet/DBQ--Louis.Vuitton.Product.prices.Canada-61566f9c840a2a37/0.0.0/2a3b91fbd88a2c90d1dbbb32b460cf621d31bd5b05b934492fdef7d8d6f236ec...\n"
     ]
    },
    {
     "data": {
      "application/vnd.jupyter.widget-view+json": {
       "model_id": "ba681c475d1949d7b4321bbac2033859",
       "version_major": 2,
       "version_minor": 0
      },
      "text/plain": [
       "Downloading data files:   0%|          | 0/1 [00:00<?, ?it/s]"
      ]
     },
     "metadata": {},
     "output_type": "display_data"
    },
    {
     "data": {
      "application/vnd.jupyter.widget-view+json": {
       "model_id": "2756b45aa92a415dbaa61564115b3662",
       "version_major": 2,
       "version_minor": 0
      },
      "text/plain": [
       "Downloading data:   0%|          | 0.00/913k [00:00<?, ?B/s]"
      ]
     },
     "metadata": {},
     "output_type": "display_data"
    },
    {
     "data": {
      "application/vnd.jupyter.widget-view+json": {
       "model_id": "4e77ac437bb245babea1b48f4ce87c1f",
       "version_major": 2,
       "version_minor": 0
      },
      "text/plain": [
       "Extracting data files:   0%|          | 0/1 [00:00<?, ?it/s]"
      ]
     },
     "metadata": {},
     "output_type": "display_data"
    },
    {
     "data": {
      "application/vnd.jupyter.widget-view+json": {
       "model_id": "",
       "version_major": 2,
       "version_minor": 0
      },
      "text/plain": [
       "Generating train split:   0%|          | 0/8151 [00:00<?, ? examples/s]"
      ]
     },
     "metadata": {},
     "output_type": "display_data"
    },
    {
     "name": "stdout",
     "output_type": "stream",
     "text": [
      "Dataset parquet downloaded and prepared to /Users/SandeepKaur/.cache/huggingface/datasets/DBQ___parquet/DBQ--Louis.Vuitton.Product.prices.Canada-61566f9c840a2a37/0.0.0/2a3b91fbd88a2c90d1dbbb32b460cf621d31bd5b05b934492fdef7d8d6f236ec. Subsequent calls will reuse this data.\n"
     ]
    },
    {
     "data": {
      "application/vnd.jupyter.widget-view+json": {
       "model_id": "321da47a0e0b4272aece91ba5570bfd8",
       "version_major": 2,
       "version_minor": 0
      },
      "text/plain": [
       "  0%|          | 0/1 [00:00<?, ?it/s]"
      ]
     },
     "metadata": {},
     "output_type": "display_data"
    },
    {
     "data": {
      "application/vnd.jupyter.widget-view+json": {
       "model_id": "815b12f385b248fe96453b5d547be708",
       "version_major": 2,
       "version_minor": 0
      },
      "text/plain": [
       "Downloading readme:   0%|          | 0.00/2.28k [00:00<?, ?B/s]"
      ]
     },
     "metadata": {},
     "output_type": "display_data"
    },
    {
     "name": "stdout",
     "output_type": "stream",
     "text": [
      "Downloading and preparing dataset None/None to /Users/SandeepKaur/.cache/huggingface/datasets/DBQ___parquet/DBQ--Gucci.Product.prices.Canada-5c2c1bc7012836e9/0.0.0/2a3b91fbd88a2c90d1dbbb32b460cf621d31bd5b05b934492fdef7d8d6f236ec...\n"
     ]
    },
    {
     "data": {
      "application/vnd.jupyter.widget-view+json": {
       "model_id": "72dca6b0134c40f78549e78bb698aae8",
       "version_major": 2,
       "version_minor": 0
      },
      "text/plain": [
       "Downloading data files:   0%|          | 0/1 [00:00<?, ?it/s]"
      ]
     },
     "metadata": {},
     "output_type": "display_data"
    },
    {
     "data": {
      "application/vnd.jupyter.widget-view+json": {
       "model_id": "e390fdd2ff2c4ff6b7f087337de4569b",
       "version_major": 2,
       "version_minor": 0
      },
      "text/plain": [
       "Downloading data:   0%|          | 0.00/751k [00:00<?, ?B/s]"
      ]
     },
     "metadata": {},
     "output_type": "display_data"
    },
    {
     "data": {
      "application/vnd.jupyter.widget-view+json": {
       "model_id": "6220e4e2d7984b4298c52b230ee38202",
       "version_major": 2,
       "version_minor": 0
      },
      "text/plain": [
       "Extracting data files:   0%|          | 0/1 [00:00<?, ?it/s]"
      ]
     },
     "metadata": {},
     "output_type": "display_data"
    },
    {
     "data": {
      "application/vnd.jupyter.widget-view+json": {
       "model_id": "",
       "version_major": 2,
       "version_minor": 0
      },
      "text/plain": [
       "Generating train split:   0%|          | 0/5185 [00:00<?, ? examples/s]"
      ]
     },
     "metadata": {},
     "output_type": "display_data"
    },
    {
     "name": "stdout",
     "output_type": "stream",
     "text": [
      "Dataset parquet downloaded and prepared to /Users/SandeepKaur/.cache/huggingface/datasets/DBQ___parquet/DBQ--Gucci.Product.prices.Canada-5c2c1bc7012836e9/0.0.0/2a3b91fbd88a2c90d1dbbb32b460cf621d31bd5b05b934492fdef7d8d6f236ec. Subsequent calls will reuse this data.\n"
     ]
    },
    {
     "data": {
      "application/vnd.jupyter.widget-view+json": {
       "model_id": "3045998641464c9caec9bfd0b8d7bdee",
       "version_major": 2,
       "version_minor": 0
      },
      "text/plain": [
       "  0%|          | 0/1 [00:00<?, ?it/s]"
      ]
     },
     "metadata": {},
     "output_type": "display_data"
    },
    {
     "data": {
      "application/vnd.jupyter.widget-view+json": {
       "model_id": "f7fb54c8cc0a445884537dd431720829",
       "version_major": 2,
       "version_minor": 0
      },
      "text/plain": [
       "Downloading readme:   0%|          | 0.00/2.38k [00:00<?, ?B/s]"
      ]
     },
     "metadata": {},
     "output_type": "display_data"
    },
    {
     "name": "stdout",
     "output_type": "stream",
     "text": [
      "Downloading and preparing dataset None/None to /Users/SandeepKaur/.cache/huggingface/datasets/DBQ___parquet/DBQ--Fendi.Product.prices.Canada-182b3b06e6b43c2d/0.0.0/2a3b91fbd88a2c90d1dbbb32b460cf621d31bd5b05b934492fdef7d8d6f236ec...\n"
     ]
    },
    {
     "data": {
      "application/vnd.jupyter.widget-view+json": {
       "model_id": "29996d93410a4e06a2ebd7b60fcb9c06",
       "version_major": 2,
       "version_minor": 0
      },
      "text/plain": [
       "Downloading data files:   0%|          | 0/1 [00:00<?, ?it/s]"
      ]
     },
     "metadata": {},
     "output_type": "display_data"
    },
    {
     "data": {
      "application/vnd.jupyter.widget-view+json": {
       "model_id": "7eace14f816f44cb958149456e1e83a9",
       "version_major": 2,
       "version_minor": 0
      },
      "text/plain": [
       "Downloading data:   0%|          | 0.00/208k [00:00<?, ?B/s]"
      ]
     },
     "metadata": {},
     "output_type": "display_data"
    },
    {
     "data": {
      "application/vnd.jupyter.widget-view+json": {
       "model_id": "5f71f728db0545efa595290dcd9ed7b8",
       "version_major": 2,
       "version_minor": 0
      },
      "text/plain": [
       "Extracting data files:   0%|          | 0/1 [00:00<?, ?it/s]"
      ]
     },
     "metadata": {},
     "output_type": "display_data"
    },
    {
     "data": {
      "application/vnd.jupyter.widget-view+json": {
       "model_id": "",
       "version_major": 2,
       "version_minor": 0
      },
      "text/plain": [
       "Generating train split:   0%|          | 0/1610 [00:00<?, ? examples/s]"
      ]
     },
     "metadata": {},
     "output_type": "display_data"
    },
    {
     "name": "stdout",
     "output_type": "stream",
     "text": [
      "Dataset parquet downloaded and prepared to /Users/SandeepKaur/.cache/huggingface/datasets/DBQ___parquet/DBQ--Fendi.Product.prices.Canada-182b3b06e6b43c2d/0.0.0/2a3b91fbd88a2c90d1dbbb32b460cf621d31bd5b05b934492fdef7d8d6f236ec. Subsequent calls will reuse this data.\n"
     ]
    },
    {
     "data": {
      "application/vnd.jupyter.widget-view+json": {
       "model_id": "ec3bda6a49514315b45a5912ffbab100",
       "version_major": 2,
       "version_minor": 0
      },
      "text/plain": [
       "  0%|          | 0/1 [00:00<?, ?it/s]"
      ]
     },
     "metadata": {},
     "output_type": "display_data"
    },
    {
     "data": {
      "application/vnd.jupyter.widget-view+json": {
       "model_id": "f9aa0eed26914f81a402115394489a90",
       "version_major": 2,
       "version_minor": 0
      },
      "text/plain": [
       "Downloading readme:   0%|          | 0.00/2.37k [00:00<?, ?B/s]"
      ]
     },
     "metadata": {},
     "output_type": "display_data"
    },
    {
     "name": "stdout",
     "output_type": "stream",
     "text": [
      "Downloading and preparing dataset None/None to /Users/SandeepKaur/.cache/huggingface/datasets/DBQ___parquet/DBQ--Loro.Piana.Product.prices.Canada-c69c6685b3b0754f/0.0.0/2a3b91fbd88a2c90d1dbbb32b460cf621d31bd5b05b934492fdef7d8d6f236ec...\n"
     ]
    },
    {
     "data": {
      "application/vnd.jupyter.widget-view+json": {
       "model_id": "b47fc45b927f4514ba347b1a190b021e",
       "version_major": 2,
       "version_minor": 0
      },
      "text/plain": [
       "Downloading data files:   0%|          | 0/1 [00:00<?, ?it/s]"
      ]
     },
     "metadata": {},
     "output_type": "display_data"
    },
    {
     "data": {
      "application/vnd.jupyter.widget-view+json": {
       "model_id": "6bfc6a3f9278487695be99eb06d254f2",
       "version_major": 2,
       "version_minor": 0
      },
      "text/plain": [
       "Downloading data:   0%|          | 0.00/83.3k [00:00<?, ?B/s]"
      ]
     },
     "metadata": {},
     "output_type": "display_data"
    },
    {
     "data": {
      "application/vnd.jupyter.widget-view+json": {
       "model_id": "af17c09a78d84540a3ea35ed7c114bd9",
       "version_major": 2,
       "version_minor": 0
      },
      "text/plain": [
       "Extracting data files:   0%|          | 0/1 [00:00<?, ?it/s]"
      ]
     },
     "metadata": {},
     "output_type": "display_data"
    },
    {
     "data": {
      "application/vnd.jupyter.widget-view+json": {
       "model_id": "",
       "version_major": 2,
       "version_minor": 0
      },
      "text/plain": [
       "Generating train split:   0%|          | 0/698 [00:00<?, ? examples/s]"
      ]
     },
     "metadata": {},
     "output_type": "display_data"
    },
    {
     "name": "stdout",
     "output_type": "stream",
     "text": [
      "Dataset parquet downloaded and prepared to /Users/SandeepKaur/.cache/huggingface/datasets/DBQ___parquet/DBQ--Loro.Piana.Product.prices.Canada-c69c6685b3b0754f/0.0.0/2a3b91fbd88a2c90d1dbbb32b460cf621d31bd5b05b934492fdef7d8d6f236ec. Subsequent calls will reuse this data.\n"
     ]
    },
    {
     "data": {
      "application/vnd.jupyter.widget-view+json": {
       "model_id": "1ccf77df72bf4b5ab3114051a6375ee8",
       "version_major": 2,
       "version_minor": 0
      },
      "text/plain": [
       "  0%|          | 0/1 [00:00<?, ?it/s]"
      ]
     },
     "metadata": {},
     "output_type": "display_data"
    },
    {
     "data": {
      "application/vnd.jupyter.widget-view+json": {
       "model_id": "aefe51794a1a41fa8b83d7ac45793ee5",
       "version_major": 2,
       "version_minor": 0
      },
      "text/plain": [
       "Downloading readme:   0%|          | 0.00/2.33k [00:00<?, ?B/s]"
      ]
     },
     "metadata": {},
     "output_type": "display_data"
    },
    {
     "name": "stdout",
     "output_type": "stream",
     "text": [
      "Downloading and preparing dataset None/None to /Users/SandeepKaur/.cache/huggingface/datasets/DBQ___parquet/DBQ--Net.a.Porter.Product.prices.Canada-d881882700e24e8a/0.0.0/2a3b91fbd88a2c90d1dbbb32b460cf621d31bd5b05b934492fdef7d8d6f236ec...\n"
     ]
    },
    {
     "data": {
      "application/vnd.jupyter.widget-view+json": {
       "model_id": "1b1ebe0b473748479d82413aa36356f4",
       "version_major": 2,
       "version_minor": 0
      },
      "text/plain": [
       "Downloading data files:   0%|          | 0/1 [00:00<?, ?it/s]"
      ]
     },
     "metadata": {},
     "output_type": "display_data"
    },
    {
     "data": {
      "application/vnd.jupyter.widget-view+json": {
       "model_id": "bf90f0a5f6d840d6b01ac8b19003c6b4",
       "version_major": 2,
       "version_minor": 0
      },
      "text/plain": [
       "Downloading data:   0%|          | 0.00/5.27M [00:00<?, ?B/s]"
      ]
     },
     "metadata": {},
     "output_type": "display_data"
    },
    {
     "data": {
      "application/vnd.jupyter.widget-view+json": {
       "model_id": "3c3686aa80c645aeb9191f94dd994069",
       "version_major": 2,
       "version_minor": 0
      },
      "text/plain": [
       "Extracting data files:   0%|          | 0/1 [00:00<?, ?it/s]"
      ]
     },
     "metadata": {},
     "output_type": "display_data"
    },
    {
     "data": {
      "application/vnd.jupyter.widget-view+json": {
       "model_id": "",
       "version_major": 2,
       "version_minor": 0
      },
      "text/plain": [
       "Generating train split:   0%|          | 0/43168 [00:00<?, ? examples/s]"
      ]
     },
     "metadata": {},
     "output_type": "display_data"
    },
    {
     "name": "stdout",
     "output_type": "stream",
     "text": [
      "Dataset parquet downloaded and prepared to /Users/SandeepKaur/.cache/huggingface/datasets/DBQ___parquet/DBQ--Net.a.Porter.Product.prices.Canada-d881882700e24e8a/0.0.0/2a3b91fbd88a2c90d1dbbb32b460cf621d31bd5b05b934492fdef7d8d6f236ec. Subsequent calls will reuse this data.\n"
     ]
    },
    {
     "data": {
      "application/vnd.jupyter.widget-view+json": {
       "model_id": "03d748d7c1bc48d3ae59c875642a3d51",
       "version_major": 2,
       "version_minor": 0
      },
      "text/plain": [
       "  0%|          | 0/1 [00:00<?, ?it/s]"
      ]
     },
     "metadata": {},
     "output_type": "display_data"
    }
   ],
   "source": [
    "# Load the dataset of Canada brands\n",
    "\n",
    "data_LV_canada = load_dataset(\"DBQ/Louis.Vuitton.Product.prices.Canada\")\n",
    "data_Gucci_canada = load_dataset(\"DBQ/Gucci.Product.prices.Canada\")\n",
    "data_Fendi_canada = load_dataset(\"DBQ/Fendi.Product.prices.Canada\")\n",
    "data_LP_canada = load_dataset(\"DBQ/Loro.Piana.Product.prices.Canada\")\n",
    "data_NAP_canada = load_dataset(\"DBQ/Net.a.Porter.Product.prices.Canada\")\n"
   ]
  },
  {
   "cell_type": "code",
   "execution_count": 12,
   "id": "b7ffbb4d",
   "metadata": {},
   "outputs": [],
   "source": [
    "# Convert the dataset to a DataFrame and save it to a CSV file in the current folder\n",
    "\n",
    "df_LV_canada = pd.DataFrame(data_LV_canada[\"train\"]) #8151 rows\n",
    "df_LV_canada.to_csv(\"df_LV_canada.csv\")\n",
    "\n",
    "df_Gucci_canada = pd.DataFrame(data_Gucci_canada[\"train\"]) #5185 rows\n",
    "df_Gucci_canada.to_csv(\"df_Gucci_canada.csv\")\n",
    "\n",
    "df_Fendi_canada = pd.DataFrame(data_Fendi_canada[\"train\"]) #1610 rows\n",
    "df_Fendi_canada.to_csv(\"df_Fendi_canada.csv\")\n",
    "\n",
    "df_LP_canada = pd.DataFrame(data_LP_canada[\"train\"])  #698 rows\n",
    "df_LP_canada.to_csv(\"df_LP_canada.csv\")\n",
    "\n",
    "df_NAP_canada = pd.DataFrame(data_NAP_canada[\"train\"]) #43168 rows\n",
    "df_NAP_canada.to_csv(\"df_NAP_canada.csv\")"
   ]
  },
  {
   "cell_type": "code",
   "execution_count": 45,
   "id": "4bb0443c",
   "metadata": {
    "scrolled": true
   },
   "outputs": [
    {
     "data": {
      "text/html": [
       "<div>\n",
       "<style scoped>\n",
       "    .dataframe tbody tr th:only-of-type {\n",
       "        vertical-align: middle;\n",
       "    }\n",
       "\n",
       "    .dataframe tbody tr th {\n",
       "        vertical-align: top;\n",
       "    }\n",
       "\n",
       "    .dataframe thead th {\n",
       "        text-align: right;\n",
       "    }\n",
       "</style>\n",
       "<table border=\"1\" class=\"dataframe\">\n",
       "  <thead>\n",
       "    <tr style=\"text-align: right;\">\n",
       "      <th></th>\n",
       "      <th>website_name</th>\n",
       "      <th>competence_date</th>\n",
       "      <th>country_code</th>\n",
       "      <th>currency_code</th>\n",
       "      <th>brand</th>\n",
       "      <th>category1_code</th>\n",
       "      <th>category2_code</th>\n",
       "      <th>category3_code</th>\n",
       "      <th>product_code</th>\n",
       "      <th>title</th>\n",
       "      <th>itemurl</th>\n",
       "      <th>imageurl</th>\n",
       "      <th>full_price</th>\n",
       "      <th>price</th>\n",
       "      <th>full_price_eur</th>\n",
       "      <th>price_eur</th>\n",
       "      <th>flg_discount</th>\n",
       "    </tr>\n",
       "  </thead>\n",
       "  <tbody>\n",
       "    <tr>\n",
       "      <th>0</th>\n",
       "      <td>Fendi</td>\n",
       "      <td>2023-11-17</td>\n",
       "      <td>CAN</td>\n",
       "      <td>USD</td>\n",
       "      <td>FENDI</td>\n",
       "      <td>VIEW ALL MEN’S</td>\n",
       "      <td>SHOES</td>\n",
       "      <td>N.A.</td>\n",
       "      <td>7X1585AK1TF0ABB</td>\n",
       "      <td>Sandals</td>\n",
       "      <td>https://www.fendi.com/ca-en/man/shoes/sandals-...</td>\n",
       "      <td>https://static.fendi.com/dam/is/image/fendi/7X...</td>\n",
       "      <td>920.0</td>\n",
       "      <td>920.0</td>\n",
       "      <td>848.70</td>\n",
       "      <td>848.70</td>\n",
       "      <td>0</td>\n",
       "    </tr>\n",
       "    <tr>\n",
       "      <th>1</th>\n",
       "      <td>Fendi</td>\n",
       "      <td>2023-11-17</td>\n",
       "      <td>CAN</td>\n",
       "      <td>USD</td>\n",
       "      <td>FENDI</td>\n",
       "      <td>HOME DÉCOR</td>\n",
       "      <td>TEXTILE ACCESSORIES</td>\n",
       "      <td>N.A.</td>\n",
       "      <td>7AC044AL9OF0ECW</td>\n",
       "      <td>FF Blanket</td>\n",
       "      <td>https://www.fendi.com/ca-en/homedecor/textile-...</td>\n",
       "      <td>https://static.fendi.com/dam/is/image/fendi/7A...</td>\n",
       "      <td>3890.0</td>\n",
       "      <td>3890.0</td>\n",
       "      <td>3588.56</td>\n",
       "      <td>3588.56</td>\n",
       "      <td>0</td>\n",
       "    </tr>\n",
       "    <tr>\n",
       "      <th>2</th>\n",
       "      <td>Fendi</td>\n",
       "      <td>2023-11-17</td>\n",
       "      <td>CAN</td>\n",
       "      <td>USD</td>\n",
       "      <td>FENDI</td>\n",
       "      <td>VIEW GIFT IDEAS</td>\n",
       "      <td>GIFTS FOR HIM</td>\n",
       "      <td>N.A.</td>\n",
       "      <td>FOL547V1TF16QH</td>\n",
       "      <td>FF Match</td>\n",
       "      <td>https://www.fendi.com/ca-en/gift-ideas/ff-matc...</td>\n",
       "      <td>https://static.fendi.com/dam/is/image/fendi/FO...</td>\n",
       "      <td>680.0</td>\n",
       "      <td>680.0</td>\n",
       "      <td>627.30</td>\n",
       "      <td>627.30</td>\n",
       "      <td>0</td>\n",
       "    </tr>\n",
       "    <tr>\n",
       "      <th>3</th>\n",
       "      <td>Fendi</td>\n",
       "      <td>2023-11-17</td>\n",
       "      <td>CAN</td>\n",
       "      <td>USD</td>\n",
       "      <td>FENDI</td>\n",
       "      <td>VIEW ALL WOMEN’S</td>\n",
       "      <td>READY TO WEAR</td>\n",
       "      <td>N.A.</td>\n",
       "      <td>FR6481AC4GF1KA0</td>\n",
       "      <td>Trousers</td>\n",
       "      <td>https://www.fendi.com/ca-en/woman/ready-to-wea...</td>\n",
       "      <td>https://static.fendi.com/dam/is/image/fendi/FR...</td>\n",
       "      <td>1890.0</td>\n",
       "      <td>1890.0</td>\n",
       "      <td>1743.54</td>\n",
       "      <td>1743.54</td>\n",
       "      <td>0</td>\n",
       "    </tr>\n",
       "    <tr>\n",
       "      <th>4</th>\n",
       "      <td>Fendi</td>\n",
       "      <td>2023-11-17</td>\n",
       "      <td>CAN</td>\n",
       "      <td>USD</td>\n",
       "      <td>FENDI</td>\n",
       "      <td>VIEW ALL MEN’S</td>\n",
       "      <td>READY TO WEAR</td>\n",
       "      <td>N.A.</td>\n",
       "      <td>FLP294AKCVF0QA0</td>\n",
       "      <td>Bermudas</td>\n",
       "      <td>https://www.fendi.com/ca-en/man/ready-to-wear/...</td>\n",
       "      <td>https://static.fendi.com/dam/is/image/fendi/FL...</td>\n",
       "      <td>1100.0</td>\n",
       "      <td>1100.0</td>\n",
       "      <td>1014.76</td>\n",
       "      <td>1014.76</td>\n",
       "      <td>0</td>\n",
       "    </tr>\n",
       "    <tr>\n",
       "      <th>...</th>\n",
       "      <td>...</td>\n",
       "      <td>...</td>\n",
       "      <td>...</td>\n",
       "      <td>...</td>\n",
       "      <td>...</td>\n",
       "      <td>...</td>\n",
       "      <td>...</td>\n",
       "      <td>...</td>\n",
       "      <td>...</td>\n",
       "      <td>...</td>\n",
       "      <td>...</td>\n",
       "      <td>...</td>\n",
       "      <td>...</td>\n",
       "      <td>...</td>\n",
       "      <td>...</td>\n",
       "      <td>...</td>\n",
       "      <td>...</td>\n",
       "    </tr>\n",
       "    <tr>\n",
       "      <th>1605</th>\n",
       "      <td>Fendi</td>\n",
       "      <td>2023-11-17</td>\n",
       "      <td>CAN</td>\n",
       "      <td>USD</td>\n",
       "      <td>FENDI</td>\n",
       "      <td>VIEW GIFT IDEAS</td>\n",
       "      <td>GIFTS FOR HER</td>\n",
       "      <td>N.A.</td>\n",
       "      <td>8AH323A44GF089U</td>\n",
       "      <td>O’Lock ring</td>\n",
       "      <td>https://www.fendi.com/ca-en/woman/fashion-jewe...</td>\n",
       "      <td>https://static.fendi.com/dam/is/image/fendi/8A...</td>\n",
       "      <td>390.0</td>\n",
       "      <td>390.0</td>\n",
       "      <td>359.77</td>\n",
       "      <td>359.77</td>\n",
       "      <td>0</td>\n",
       "    </tr>\n",
       "    <tr>\n",
       "      <th>1606</th>\n",
       "      <td>Fendi</td>\n",
       "      <td>2023-11-17</td>\n",
       "      <td>CAN</td>\n",
       "      <td>USD</td>\n",
       "      <td>FENDI</td>\n",
       "      <td>VIEW ALL WOMEN’S</td>\n",
       "      <td>FASHION JEWELRY</td>\n",
       "      <td>N.A.</td>\n",
       "      <td>8AH449A44GF089U</td>\n",
       "      <td>O’Lock Earrings</td>\n",
       "      <td>https://www.fendi.com/ca-en/woman/fashion-jewe...</td>\n",
       "      <td>https://static.fendi.com/dam/is/image/fendi/8A...</td>\n",
       "      <td>710.0</td>\n",
       "      <td>710.0</td>\n",
       "      <td>654.98</td>\n",
       "      <td>654.98</td>\n",
       "      <td>0</td>\n",
       "    </tr>\n",
       "    <tr>\n",
       "      <th>1607</th>\n",
       "      <td>Fendi</td>\n",
       "      <td>2023-11-17</td>\n",
       "      <td>CAN</td>\n",
       "      <td>USD</td>\n",
       "      <td>FENDI</td>\n",
       "      <td>VIEW ALL WOMEN’S</td>\n",
       "      <td>ACCESSORIES</td>\n",
       "      <td>N.A.</td>\n",
       "      <td>8AV105A5PJF13VK</td>\n",
       "      <td>Mini Strap You</td>\n",
       "      <td>https://www.fendi.com/ca-en/woman/accessories/...</td>\n",
       "      <td>https://static.fendi.com/dam/is/image/fendi/8A...</td>\n",
       "      <td>610.0</td>\n",
       "      <td>610.0</td>\n",
       "      <td>562.73</td>\n",
       "      <td>562.73</td>\n",
       "      <td>0</td>\n",
       "    </tr>\n",
       "    <tr>\n",
       "      <th>1608</th>\n",
       "      <td>Fendi</td>\n",
       "      <td>2023-11-17</td>\n",
       "      <td>CAN</td>\n",
       "      <td>USD</td>\n",
       "      <td>FENDI</td>\n",
       "      <td>VIEW GIFT IDEAS</td>\n",
       "      <td>GIFTS FOR HER</td>\n",
       "      <td>N.A.</td>\n",
       "      <td>8AV156ADLBF1CG6</td>\n",
       "      <td>Strap You</td>\n",
       "      <td>https://www.fendi.com/ca-en/woman/accessories/...</td>\n",
       "      <td>https://static.fendi.com/dam/is/image/fendi/8A...</td>\n",
       "      <td>1150.0</td>\n",
       "      <td>1150.0</td>\n",
       "      <td>1060.88</td>\n",
       "      <td>1060.88</td>\n",
       "      <td>0</td>\n",
       "    </tr>\n",
       "    <tr>\n",
       "      <th>1609</th>\n",
       "      <td>Fendi</td>\n",
       "      <td>2023-11-17</td>\n",
       "      <td>CAN</td>\n",
       "      <td>USD</td>\n",
       "      <td>FENDI</td>\n",
       "      <td>VIEW ALL WOMEN’S</td>\n",
       "      <td>BAGS</td>\n",
       "      <td>N.A.</td>\n",
       "      <td>8BH386ABVLF1998</td>\n",
       "      <td>Fendi Sunshine Medium</td>\n",
       "      <td>https://www.fendi.com/ca-en/woman/bags/fendi-s...</td>\n",
       "      <td>https://static.fendi.com/dam/is/image/fendi/8B...</td>\n",
       "      <td>3690.0</td>\n",
       "      <td>3690.0</td>\n",
       "      <td>3404.05</td>\n",
       "      <td>3404.05</td>\n",
       "      <td>0</td>\n",
       "    </tr>\n",
       "  </tbody>\n",
       "</table>\n",
       "<p>1610 rows × 17 columns</p>\n",
       "</div>"
      ],
      "text/plain": [
       "     website_name competence_date country_code currency_code  brand  \\\n",
       "0           Fendi      2023-11-17          CAN           USD  FENDI   \n",
       "1           Fendi      2023-11-17          CAN           USD  FENDI   \n",
       "2           Fendi      2023-11-17          CAN           USD  FENDI   \n",
       "3           Fendi      2023-11-17          CAN           USD  FENDI   \n",
       "4           Fendi      2023-11-17          CAN           USD  FENDI   \n",
       "...           ...             ...          ...           ...    ...   \n",
       "1605        Fendi      2023-11-17          CAN           USD  FENDI   \n",
       "1606        Fendi      2023-11-17          CAN           USD  FENDI   \n",
       "1607        Fendi      2023-11-17          CAN           USD  FENDI   \n",
       "1608        Fendi      2023-11-17          CAN           USD  FENDI   \n",
       "1609        Fendi      2023-11-17          CAN           USD  FENDI   \n",
       "\n",
       "        category1_code       category2_code category3_code     product_code  \\\n",
       "0       VIEW ALL MEN’S                SHOES           N.A.  7X1585AK1TF0ABB   \n",
       "1           HOME DÉCOR  TEXTILE ACCESSORIES           N.A.  7AC044AL9OF0ECW   \n",
       "2      VIEW GIFT IDEAS        GIFTS FOR HIM           N.A.   FOL547V1TF16QH   \n",
       "3     VIEW ALL WOMEN’S        READY TO WEAR           N.A.  FR6481AC4GF1KA0   \n",
       "4       VIEW ALL MEN’S        READY TO WEAR           N.A.  FLP294AKCVF0QA0   \n",
       "...                ...                  ...            ...              ...   \n",
       "1605   VIEW GIFT IDEAS        GIFTS FOR HER           N.A.  8AH323A44GF089U   \n",
       "1606  VIEW ALL WOMEN’S      FASHION JEWELRY           N.A.  8AH449A44GF089U   \n",
       "1607  VIEW ALL WOMEN’S          ACCESSORIES           N.A.  8AV105A5PJF13VK   \n",
       "1608   VIEW GIFT IDEAS        GIFTS FOR HER           N.A.  8AV156ADLBF1CG6   \n",
       "1609  VIEW ALL WOMEN’S                 BAGS           N.A.  8BH386ABVLF1998   \n",
       "\n",
       "                      title  \\\n",
       "0                   Sandals   \n",
       "1                FF Blanket   \n",
       "2                  FF Match   \n",
       "3                  Trousers   \n",
       "4                  Bermudas   \n",
       "...                     ...   \n",
       "1605            O’Lock ring   \n",
       "1606        O’Lock Earrings   \n",
       "1607         Mini Strap You   \n",
       "1608              Strap You   \n",
       "1609  Fendi Sunshine Medium   \n",
       "\n",
       "                                                itemurl  \\\n",
       "0     https://www.fendi.com/ca-en/man/shoes/sandals-...   \n",
       "1     https://www.fendi.com/ca-en/homedecor/textile-...   \n",
       "2     https://www.fendi.com/ca-en/gift-ideas/ff-matc...   \n",
       "3     https://www.fendi.com/ca-en/woman/ready-to-wea...   \n",
       "4     https://www.fendi.com/ca-en/man/ready-to-wear/...   \n",
       "...                                                 ...   \n",
       "1605  https://www.fendi.com/ca-en/woman/fashion-jewe...   \n",
       "1606  https://www.fendi.com/ca-en/woman/fashion-jewe...   \n",
       "1607  https://www.fendi.com/ca-en/woman/accessories/...   \n",
       "1608  https://www.fendi.com/ca-en/woman/accessories/...   \n",
       "1609  https://www.fendi.com/ca-en/woman/bags/fendi-s...   \n",
       "\n",
       "                                               imageurl  full_price   price  \\\n",
       "0     https://static.fendi.com/dam/is/image/fendi/7X...       920.0   920.0   \n",
       "1     https://static.fendi.com/dam/is/image/fendi/7A...      3890.0  3890.0   \n",
       "2     https://static.fendi.com/dam/is/image/fendi/FO...       680.0   680.0   \n",
       "3     https://static.fendi.com/dam/is/image/fendi/FR...      1890.0  1890.0   \n",
       "4     https://static.fendi.com/dam/is/image/fendi/FL...      1100.0  1100.0   \n",
       "...                                                 ...         ...     ...   \n",
       "1605  https://static.fendi.com/dam/is/image/fendi/8A...       390.0   390.0   \n",
       "1606  https://static.fendi.com/dam/is/image/fendi/8A...       710.0   710.0   \n",
       "1607  https://static.fendi.com/dam/is/image/fendi/8A...       610.0   610.0   \n",
       "1608  https://static.fendi.com/dam/is/image/fendi/8A...      1150.0  1150.0   \n",
       "1609  https://static.fendi.com/dam/is/image/fendi/8B...      3690.0  3690.0   \n",
       "\n",
       "      full_price_eur  price_eur  flg_discount  \n",
       "0             848.70     848.70             0  \n",
       "1            3588.56    3588.56             0  \n",
       "2             627.30     627.30             0  \n",
       "3            1743.54    1743.54             0  \n",
       "4            1014.76    1014.76             0  \n",
       "...              ...        ...           ...  \n",
       "1605          359.77     359.77             0  \n",
       "1606          654.98     654.98             0  \n",
       "1607          562.73     562.73             0  \n",
       "1608         1060.88    1060.88             0  \n",
       "1609         3404.05    3404.05             0  \n",
       "\n",
       "[1610 rows x 17 columns]"
      ]
     },
     "execution_count": 45,
     "metadata": {},
     "output_type": "execute_result"
    }
   ],
   "source": [
    "df_Fendi_canada"
   ]
  },
  {
   "cell_type": "markdown",
   "id": "5b064a81",
   "metadata": {},
   "source": [
    "### US Brands"
   ]
  },
  {
   "cell_type": "code",
   "execution_count": 13,
   "id": "a2f46a26",
   "metadata": {},
   "outputs": [
    {
     "data": {
      "application/vnd.jupyter.widget-view+json": {
       "model_id": "3981b221b06d42d999138b51eaab4779",
       "version_major": 2,
       "version_minor": 0
      },
      "text/plain": [
       "Downloading readme:   0%|          | 0.00/1.82k [00:00<?, ?B/s]"
      ]
     },
     "metadata": {},
     "output_type": "display_data"
    },
    {
     "name": "stdout",
     "output_type": "stream",
     "text": [
      "Downloading and preparing dataset None/None to /Users/SandeepKaur/.cache/huggingface/datasets/DBQ___parquet/DBQ--Gucci.Product.prices.United.States-c45937e234f84f88/0.0.0/2a3b91fbd88a2c90d1dbbb32b460cf621d31bd5b05b934492fdef7d8d6f236ec...\n"
     ]
    },
    {
     "data": {
      "application/vnd.jupyter.widget-view+json": {
       "model_id": "b74a9f25f70544e0b7cc4d0bd3dd18ff",
       "version_major": 2,
       "version_minor": 0
      },
      "text/plain": [
       "Downloading data files:   0%|          | 0/1 [00:00<?, ?it/s]"
      ]
     },
     "metadata": {},
     "output_type": "display_data"
    },
    {
     "data": {
      "application/vnd.jupyter.widget-view+json": {
       "model_id": "b5fa67d203b54cef87cd77a46d7f4e06",
       "version_major": 2,
       "version_minor": 0
      },
      "text/plain": [
       "Downloading data:   0%|          | 0.00/808k [00:00<?, ?B/s]"
      ]
     },
     "metadata": {},
     "output_type": "display_data"
    },
    {
     "data": {
      "application/vnd.jupyter.widget-view+json": {
       "model_id": "21dfbca5a79d48cf85e62fd7ff98d232",
       "version_major": 2,
       "version_minor": 0
      },
      "text/plain": [
       "Extracting data files:   0%|          | 0/1 [00:00<?, ?it/s]"
      ]
     },
     "metadata": {},
     "output_type": "display_data"
    },
    {
     "data": {
      "application/vnd.jupyter.widget-view+json": {
       "model_id": "",
       "version_major": 2,
       "version_minor": 0
      },
      "text/plain": [
       "Generating train split:   0%|          | 0/5764 [00:00<?, ? examples/s]"
      ]
     },
     "metadata": {},
     "output_type": "display_data"
    },
    {
     "name": "stdout",
     "output_type": "stream",
     "text": [
      "Dataset parquet downloaded and prepared to /Users/SandeepKaur/.cache/huggingface/datasets/DBQ___parquet/DBQ--Gucci.Product.prices.United.States-c45937e234f84f88/0.0.0/2a3b91fbd88a2c90d1dbbb32b460cf621d31bd5b05b934492fdef7d8d6f236ec. Subsequent calls will reuse this data.\n"
     ]
    },
    {
     "data": {
      "application/vnd.jupyter.widget-view+json": {
       "model_id": "3f3f8f9ef1754fc6ba2b547d0a9fd726",
       "version_major": 2,
       "version_minor": 0
      },
      "text/plain": [
       "  0%|          | 0/1 [00:00<?, ?it/s]"
      ]
     },
     "metadata": {},
     "output_type": "display_data"
    },
    {
     "data": {
      "application/vnd.jupyter.widget-view+json": {
       "model_id": "6d387ee742504184b17bf075e69f62ea",
       "version_major": 2,
       "version_minor": 0
      },
      "text/plain": [
       "Downloading readme:   0%|          | 0.00/2.41k [00:00<?, ?B/s]"
      ]
     },
     "metadata": {},
     "output_type": "display_data"
    },
    {
     "name": "stdout",
     "output_type": "stream",
     "text": [
      "Downloading and preparing dataset None/None to /Users/SandeepKaur/.cache/huggingface/datasets/DBQ___parquet/DBQ--Fendi.Product.prices.United.States-c2290b85e0a9071a/0.0.0/2a3b91fbd88a2c90d1dbbb32b460cf621d31bd5b05b934492fdef7d8d6f236ec...\n"
     ]
    },
    {
     "data": {
      "application/vnd.jupyter.widget-view+json": {
       "model_id": "1415526f5b9045a9ae345a89ba009eb2",
       "version_major": 2,
       "version_minor": 0
      },
      "text/plain": [
       "Downloading data files:   0%|          | 0/1 [00:00<?, ?it/s]"
      ]
     },
     "metadata": {},
     "output_type": "display_data"
    },
    {
     "data": {
      "application/vnd.jupyter.widget-view+json": {
       "model_id": "1b81442f3e8a4fd886bcfb4a24039cb1",
       "version_major": 2,
       "version_minor": 0
      },
      "text/plain": [
       "Downloading data:   0%|          | 0.00/306k [00:00<?, ?B/s]"
      ]
     },
     "metadata": {},
     "output_type": "display_data"
    },
    {
     "data": {
      "application/vnd.jupyter.widget-view+json": {
       "model_id": "06d541027bb44e738005910eb4ec9e73",
       "version_major": 2,
       "version_minor": 0
      },
      "text/plain": [
       "Extracting data files:   0%|          | 0/1 [00:00<?, ?it/s]"
      ]
     },
     "metadata": {},
     "output_type": "display_data"
    },
    {
     "data": {
      "application/vnd.jupyter.widget-view+json": {
       "model_id": "",
       "version_major": 2,
       "version_minor": 0
      },
      "text/plain": [
       "Generating train split:   0%|          | 0/2897 [00:00<?, ? examples/s]"
      ]
     },
     "metadata": {},
     "output_type": "display_data"
    },
    {
     "name": "stdout",
     "output_type": "stream",
     "text": [
      "Dataset parquet downloaded and prepared to /Users/SandeepKaur/.cache/huggingface/datasets/DBQ___parquet/DBQ--Fendi.Product.prices.United.States-c2290b85e0a9071a/0.0.0/2a3b91fbd88a2c90d1dbbb32b460cf621d31bd5b05b934492fdef7d8d6f236ec. Subsequent calls will reuse this data.\n"
     ]
    },
    {
     "data": {
      "application/vnd.jupyter.widget-view+json": {
       "model_id": "b2df998bf4734f3ba48f686e22eeb4cf",
       "version_major": 2,
       "version_minor": 0
      },
      "text/plain": [
       "  0%|          | 0/1 [00:00<?, ?it/s]"
      ]
     },
     "metadata": {},
     "output_type": "display_data"
    },
    {
     "data": {
      "application/vnd.jupyter.widget-view+json": {
       "model_id": "6bed4649c0424dc482c79d0a529fc280",
       "version_major": 2,
       "version_minor": 0
      },
      "text/plain": [
       "Downloading readme:   0%|          | 0.00/2.41k [00:00<?, ?B/s]"
      ]
     },
     "metadata": {},
     "output_type": "display_data"
    },
    {
     "name": "stdout",
     "output_type": "stream",
     "text": [
      "Downloading and preparing dataset None/None to /Users/SandeepKaur/.cache/huggingface/datasets/DBQ___parquet/DBQ--Loro.Piana.Product.prices.United.States-5a46878dc8cc053e/0.0.0/2a3b91fbd88a2c90d1dbbb32b460cf621d31bd5b05b934492fdef7d8d6f236ec...\n"
     ]
    },
    {
     "data": {
      "application/vnd.jupyter.widget-view+json": {
       "model_id": "aa21a789eca8418ca1ae8bb59d6747ae",
       "version_major": 2,
       "version_minor": 0
      },
      "text/plain": [
       "Downloading data files:   0%|          | 0/1 [00:00<?, ?it/s]"
      ]
     },
     "metadata": {},
     "output_type": "display_data"
    },
    {
     "data": {
      "application/vnd.jupyter.widget-view+json": {
       "model_id": "20f863a304ee43c2a774fa7cdeea71e6",
       "version_major": 2,
       "version_minor": 0
      },
      "text/plain": [
       "Downloading data:   0%|          | 0.00/125k [00:00<?, ?B/s]"
      ]
     },
     "metadata": {},
     "output_type": "display_data"
    },
    {
     "data": {
      "application/vnd.jupyter.widget-view+json": {
       "model_id": "4306f5eadfb04e40a657a2ead70894a4",
       "version_major": 2,
       "version_minor": 0
      },
      "text/plain": [
       "Extracting data files:   0%|          | 0/1 [00:00<?, ?it/s]"
      ]
     },
     "metadata": {},
     "output_type": "display_data"
    },
    {
     "data": {
      "application/vnd.jupyter.widget-view+json": {
       "model_id": "",
       "version_major": 2,
       "version_minor": 0
      },
      "text/plain": [
       "Generating train split:   0%|          | 0/1042 [00:00<?, ? examples/s]"
      ]
     },
     "metadata": {},
     "output_type": "display_data"
    },
    {
     "name": "stdout",
     "output_type": "stream",
     "text": [
      "Dataset parquet downloaded and prepared to /Users/SandeepKaur/.cache/huggingface/datasets/DBQ___parquet/DBQ--Loro.Piana.Product.prices.United.States-5a46878dc8cc053e/0.0.0/2a3b91fbd88a2c90d1dbbb32b460cf621d31bd5b05b934492fdef7d8d6f236ec. Subsequent calls will reuse this data.\n"
     ]
    },
    {
     "data": {
      "application/vnd.jupyter.widget-view+json": {
       "model_id": "c0aa11259aeb4ad99432846a20a600cd",
       "version_major": 2,
       "version_minor": 0
      },
      "text/plain": [
       "  0%|          | 0/1 [00:00<?, ?it/s]"
      ]
     },
     "metadata": {},
     "output_type": "display_data"
    },
    {
     "data": {
      "application/vnd.jupyter.widget-view+json": {
       "model_id": "a1ada9f9e69148c28dac057b0b5aa830",
       "version_major": 2,
       "version_minor": 0
      },
      "text/plain": [
       "Downloading readme:   0%|          | 0.00/2.46k [00:00<?, ?B/s]"
      ]
     },
     "metadata": {},
     "output_type": "display_data"
    },
    {
     "name": "stdout",
     "output_type": "stream",
     "text": [
      "Downloading and preparing dataset None/None to /Users/SandeepKaur/.cache/huggingface/datasets/DBQ___parquet/DBQ--Net.a.Porter.Product.prices.United.States-94931d1b028da081/0.0.0/2a3b91fbd88a2c90d1dbbb32b460cf621d31bd5b05b934492fdef7d8d6f236ec...\n"
     ]
    },
    {
     "data": {
      "application/vnd.jupyter.widget-view+json": {
       "model_id": "80d6eba1d2f34c6aaa3712155d90b008",
       "version_major": 2,
       "version_minor": 0
      },
      "text/plain": [
       "Downloading data files:   0%|          | 0/1 [00:00<?, ?it/s]"
      ]
     },
     "metadata": {},
     "output_type": "display_data"
    },
    {
     "data": {
      "application/vnd.jupyter.widget-view+json": {
       "model_id": "65fb4513f1f14011a8aaf52adb056e72",
       "version_major": 2,
       "version_minor": 0
      },
      "text/plain": [
       "Downloading data:   0%|          | 0.00/5.90M [00:00<?, ?B/s]"
      ]
     },
     "metadata": {},
     "output_type": "display_data"
    },
    {
     "data": {
      "application/vnd.jupyter.widget-view+json": {
       "model_id": "0dea6d2af76a4676ba480481f87e4528",
       "version_major": 2,
       "version_minor": 0
      },
      "text/plain": [
       "Extracting data files:   0%|          | 0/1 [00:00<?, ?it/s]"
      ]
     },
     "metadata": {},
     "output_type": "display_data"
    },
    {
     "data": {
      "application/vnd.jupyter.widget-view+json": {
       "model_id": "",
       "version_major": 2,
       "version_minor": 0
      },
      "text/plain": [
       "Generating train split:   0%|          | 0/48920 [00:00<?, ? examples/s]"
      ]
     },
     "metadata": {},
     "output_type": "display_data"
    },
    {
     "name": "stdout",
     "output_type": "stream",
     "text": [
      "Dataset parquet downloaded and prepared to /Users/SandeepKaur/.cache/huggingface/datasets/DBQ___parquet/DBQ--Net.a.Porter.Product.prices.United.States-94931d1b028da081/0.0.0/2a3b91fbd88a2c90d1dbbb32b460cf621d31bd5b05b934492fdef7d8d6f236ec. Subsequent calls will reuse this data.\n"
     ]
    },
    {
     "data": {
      "application/vnd.jupyter.widget-view+json": {
       "model_id": "bb9c8e3a1fa74769903f1dd7c0aaaf92",
       "version_major": 2,
       "version_minor": 0
      },
      "text/plain": [
       "  0%|          | 0/1 [00:00<?, ?it/s]"
      ]
     },
     "metadata": {},
     "output_type": "display_data"
    },
    {
     "data": {
      "application/vnd.jupyter.widget-view+json": {
       "model_id": "8228884ab1274debbf5922133e731bf5",
       "version_major": 2,
       "version_minor": 0
      },
      "text/plain": [
       "Downloading readme:   0%|          | 0.00/2.45k [00:00<?, ?B/s]"
      ]
     },
     "metadata": {},
     "output_type": "display_data"
    },
    {
     "name": "stdout",
     "output_type": "stream",
     "text": [
      "Downloading and preparing dataset None/None to /Users/SandeepKaur/.cache/huggingface/datasets/DBQ___parquet/DBQ--Bottega.Veneta.Product.prices.United.States-50737ac280412295/0.0.0/2a3b91fbd88a2c90d1dbbb32b460cf621d31bd5b05b934492fdef7d8d6f236ec...\n"
     ]
    },
    {
     "data": {
      "application/vnd.jupyter.widget-view+json": {
       "model_id": "c4be5dc8b76c416cbaf17256f65e4d71",
       "version_major": 2,
       "version_minor": 0
      },
      "text/plain": [
       "Downloading data files:   0%|          | 0/1 [00:00<?, ?it/s]"
      ]
     },
     "metadata": {},
     "output_type": "display_data"
    },
    {
     "data": {
      "application/vnd.jupyter.widget-view+json": {
       "model_id": "11fabbfd1dcd42c9a8b534f07f28a54f",
       "version_major": 2,
       "version_minor": 0
      },
      "text/plain": [
       "Downloading data:   0%|          | 0.00/452k [00:00<?, ?B/s]"
      ]
     },
     "metadata": {},
     "output_type": "display_data"
    },
    {
     "data": {
      "application/vnd.jupyter.widget-view+json": {
       "model_id": "ab30b8ff48d44986b967c2cbcb61fb76",
       "version_major": 2,
       "version_minor": 0
      },
      "text/plain": [
       "Extracting data files:   0%|          | 0/1 [00:00<?, ?it/s]"
      ]
     },
     "metadata": {},
     "output_type": "display_data"
    },
    {
     "data": {
      "application/vnd.jupyter.widget-view+json": {
       "model_id": "",
       "version_major": 2,
       "version_minor": 0
      },
      "text/plain": [
       "Generating train split:   0%|          | 0/4469 [00:00<?, ? examples/s]"
      ]
     },
     "metadata": {},
     "output_type": "display_data"
    },
    {
     "name": "stdout",
     "output_type": "stream",
     "text": [
      "Dataset parquet downloaded and prepared to /Users/SandeepKaur/.cache/huggingface/datasets/DBQ___parquet/DBQ--Bottega.Veneta.Product.prices.United.States-50737ac280412295/0.0.0/2a3b91fbd88a2c90d1dbbb32b460cf621d31bd5b05b934492fdef7d8d6f236ec. Subsequent calls will reuse this data.\n"
     ]
    },
    {
     "data": {
      "application/vnd.jupyter.widget-view+json": {
       "model_id": "e61f9536e0a742c9ad9a4b19008c3dc8",
       "version_major": 2,
       "version_minor": 0
      },
      "text/plain": [
       "  0%|          | 0/1 [00:00<?, ?it/s]"
      ]
     },
     "metadata": {},
     "output_type": "display_data"
    },
    {
     "data": {
      "application/vnd.jupyter.widget-view+json": {
       "model_id": "c4e43d1063234d468fcd88197b421007",
       "version_major": 2,
       "version_minor": 0
      },
      "text/plain": [
       "Downloading readme:   0%|          | 0.00/2.41k [00:00<?, ?B/s]"
      ]
     },
     "metadata": {},
     "output_type": "display_data"
    },
    {
     "name": "stdout",
     "output_type": "stream",
     "text": [
      "Downloading and preparing dataset None/None to /Users/SandeepKaur/.cache/huggingface/datasets/DBQ___parquet/DBQ--Chanel.Product.prices.United.States-632eb3b96888e78a/0.0.0/2a3b91fbd88a2c90d1dbbb32b460cf621d31bd5b05b934492fdef7d8d6f236ec...\n"
     ]
    },
    {
     "data": {
      "application/vnd.jupyter.widget-view+json": {
       "model_id": "18850226e1734f2588756e0db667944f",
       "version_major": 2,
       "version_minor": 0
      },
      "text/plain": [
       "Downloading data files:   0%|          | 0/1 [00:00<?, ?it/s]"
      ]
     },
     "metadata": {},
     "output_type": "display_data"
    },
    {
     "data": {
      "application/vnd.jupyter.widget-view+json": {
       "model_id": "6c20304a18a84f169c202dd4b4461ac8",
       "version_major": 2,
       "version_minor": 0
      },
      "text/plain": [
       "Downloading data:   0%|          | 0.00/190k [00:00<?, ?B/s]"
      ]
     },
     "metadata": {},
     "output_type": "display_data"
    },
    {
     "data": {
      "application/vnd.jupyter.widget-view+json": {
       "model_id": "42a7274ffb874648b47ec23bf90eb36c",
       "version_major": 2,
       "version_minor": 0
      },
      "text/plain": [
       "Extracting data files:   0%|          | 0/1 [00:00<?, ?it/s]"
      ]
     },
     "metadata": {},
     "output_type": "display_data"
    },
    {
     "data": {
      "application/vnd.jupyter.widget-view+json": {
       "model_id": "",
       "version_major": 2,
       "version_minor": 0
      },
      "text/plain": [
       "Generating train split:   0%|          | 0/1452 [00:00<?, ? examples/s]"
      ]
     },
     "metadata": {},
     "output_type": "display_data"
    },
    {
     "name": "stdout",
     "output_type": "stream",
     "text": [
      "Dataset parquet downloaded and prepared to /Users/SandeepKaur/.cache/huggingface/datasets/DBQ___parquet/DBQ--Chanel.Product.prices.United.States-632eb3b96888e78a/0.0.0/2a3b91fbd88a2c90d1dbbb32b460cf621d31bd5b05b934492fdef7d8d6f236ec. Subsequent calls will reuse this data.\n"
     ]
    },
    {
     "data": {
      "application/vnd.jupyter.widget-view+json": {
       "model_id": "e7eaab03d0f446719ab0588eae0789dd",
       "version_major": 2,
       "version_minor": 0
      },
      "text/plain": [
       "  0%|          | 0/1 [00:00<?, ?it/s]"
      ]
     },
     "metadata": {},
     "output_type": "display_data"
    },
    {
     "data": {
      "application/vnd.jupyter.widget-view+json": {
       "model_id": "ce9bfb4f1189416586d4c74f35ac55f8",
       "version_major": 2,
       "version_minor": 0
      },
      "text/plain": [
       "Downloading readme:   0%|          | 0.00/2.41k [00:00<?, ?B/s]"
      ]
     },
     "metadata": {},
     "output_type": "display_data"
    },
    {
     "name": "stdout",
     "output_type": "stream",
     "text": [
      "Downloading and preparing dataset None/None to /Users/SandeepKaur/.cache/huggingface/datasets/DBQ___parquet/DBQ--Rue.La.La.Product.prices.United.States-18ba8fdfe882b58f/0.0.0/2a3b91fbd88a2c90d1dbbb32b460cf621d31bd5b05b934492fdef7d8d6f236ec...\n"
     ]
    },
    {
     "data": {
      "application/vnd.jupyter.widget-view+json": {
       "model_id": "d08c75a6959c442fbfce820c5572bc4f",
       "version_major": 2,
       "version_minor": 0
      },
      "text/plain": [
       "Downloading data files:   0%|          | 0/1 [00:00<?, ?it/s]"
      ]
     },
     "metadata": {},
     "output_type": "display_data"
    },
    {
     "data": {
      "application/vnd.jupyter.widget-view+json": {
       "model_id": "b956924a5a5a4838b80dc4c97d4ca58e",
       "version_major": 2,
       "version_minor": 0
      },
      "text/plain": [
       "Downloading data:   0%|          | 0.00/514k [00:00<?, ?B/s]"
      ]
     },
     "metadata": {},
     "output_type": "display_data"
    },
    {
     "data": {
      "application/vnd.jupyter.widget-view+json": {
       "model_id": "37424367f40645d79bfd0433c3dce3d7",
       "version_major": 2,
       "version_minor": 0
      },
      "text/plain": [
       "Extracting data files:   0%|          | 0/1 [00:00<?, ?it/s]"
      ]
     },
     "metadata": {},
     "output_type": "display_data"
    },
    {
     "data": {
      "application/vnd.jupyter.widget-view+json": {
       "model_id": "",
       "version_major": 2,
       "version_minor": 0
      },
      "text/plain": [
       "Generating train split:   0%|          | 0/7594 [00:00<?, ? examples/s]"
      ]
     },
     "metadata": {},
     "output_type": "display_data"
    },
    {
     "name": "stdout",
     "output_type": "stream",
     "text": [
      "Dataset parquet downloaded and prepared to /Users/SandeepKaur/.cache/huggingface/datasets/DBQ___parquet/DBQ--Rue.La.La.Product.prices.United.States-18ba8fdfe882b58f/0.0.0/2a3b91fbd88a2c90d1dbbb32b460cf621d31bd5b05b934492fdef7d8d6f236ec. Subsequent calls will reuse this data.\n"
     ]
    },
    {
     "data": {
      "application/vnd.jupyter.widget-view+json": {
       "model_id": "77fd0a524b0d4e3ab489456ad7e9a8f5",
       "version_major": 2,
       "version_minor": 0
      },
      "text/plain": [
       "  0%|          | 0/1 [00:00<?, ?it/s]"
      ]
     },
     "metadata": {},
     "output_type": "display_data"
    },
    {
     "data": {
      "application/vnd.jupyter.widget-view+json": {
       "model_id": "331804f876644b37955a5791b4cf8dbe",
       "version_major": 2,
       "version_minor": 0
      },
      "text/plain": [
       "Downloading readme:   0%|          | 0.00/2.50k [00:00<?, ?B/s]"
      ]
     },
     "metadata": {},
     "output_type": "display_data"
    },
    {
     "name": "stdout",
     "output_type": "stream",
     "text": [
      "Downloading and preparing dataset None/None to /Users/SandeepKaur/.cache/huggingface/datasets/DBQ___parquet/DBQ--Mr.Porter.Product.prices.United.States-3a3b86ad6a903cca/0.0.0/2a3b91fbd88a2c90d1dbbb32b460cf621d31bd5b05b934492fdef7d8d6f236ec...\n"
     ]
    },
    {
     "data": {
      "application/vnd.jupyter.widget-view+json": {
       "model_id": "af48ea66d787464abda031f11e93f3ce",
       "version_major": 2,
       "version_minor": 0
      },
      "text/plain": [
       "Downloading data files:   0%|          | 0/1 [00:00<?, ?it/s]"
      ]
     },
     "metadata": {},
     "output_type": "display_data"
    },
    {
     "data": {
      "application/vnd.jupyter.widget-view+json": {
       "model_id": "145f33cf2344435bbb4a6fb033a9f51b",
       "version_major": 2,
       "version_minor": 0
      },
      "text/plain": [
       "Downloading data:   0%|          | 0.00/2.72M [00:00<?, ?B/s]"
      ]
     },
     "metadata": {},
     "output_type": "display_data"
    },
    {
     "data": {
      "application/vnd.jupyter.widget-view+json": {
       "model_id": "1bbd39f7143340d295ecdb56e306d783",
       "version_major": 2,
       "version_minor": 0
      },
      "text/plain": [
       "Extracting data files:   0%|          | 0/1 [00:00<?, ?it/s]"
      ]
     },
     "metadata": {},
     "output_type": "display_data"
    },
    {
     "data": {
      "application/vnd.jupyter.widget-view+json": {
       "model_id": "",
       "version_major": 2,
       "version_minor": 0
      },
      "text/plain": [
       "Generating train split:   0%|          | 0/35741 [00:00<?, ? examples/s]"
      ]
     },
     "metadata": {},
     "output_type": "display_data"
    },
    {
     "name": "stdout",
     "output_type": "stream",
     "text": [
      "Dataset parquet downloaded and prepared to /Users/SandeepKaur/.cache/huggingface/datasets/DBQ___parquet/DBQ--Mr.Porter.Product.prices.United.States-3a3b86ad6a903cca/0.0.0/2a3b91fbd88a2c90d1dbbb32b460cf621d31bd5b05b934492fdef7d8d6f236ec. Subsequent calls will reuse this data.\n"
     ]
    },
    {
     "data": {
      "application/vnd.jupyter.widget-view+json": {
       "model_id": "967cb742096e4909912614b4bdbc6f30",
       "version_major": 2,
       "version_minor": 0
      },
      "text/plain": [
       "  0%|          | 0/1 [00:00<?, ?it/s]"
      ]
     },
     "metadata": {},
     "output_type": "display_data"
    },
    {
     "data": {
      "application/vnd.jupyter.widget-view+json": {
       "model_id": "66d5733fdb294a1095980480e08cb43d",
       "version_major": 2,
       "version_minor": 0
      },
      "text/plain": [
       "Downloading readme:   0%|          | 0.00/2.36k [00:00<?, ?B/s]"
      ]
     },
     "metadata": {},
     "output_type": "display_data"
    },
    {
     "name": "stdout",
     "output_type": "stream",
     "text": [
      "Downloading and preparing dataset None/None to /Users/SandeepKaur/.cache/huggingface/datasets/DBQ___parquet/DBQ--Burberry.Product.prices.United.States-8e7e8bbf0244a8a7/0.0.0/2a3b91fbd88a2c90d1dbbb32b460cf621d31bd5b05b934492fdef7d8d6f236ec...\n"
     ]
    },
    {
     "data": {
      "application/vnd.jupyter.widget-view+json": {
       "model_id": "4d5f7d57297f4b259d529b633ca25742",
       "version_major": 2,
       "version_minor": 0
      },
      "text/plain": [
       "Downloading data files:   0%|          | 0/1 [00:00<?, ?it/s]"
      ]
     },
     "metadata": {},
     "output_type": "display_data"
    },
    {
     "data": {
      "application/vnd.jupyter.widget-view+json": {
       "model_id": "330e218e70b04bfb88b7b7c442724ea4",
       "version_major": 2,
       "version_minor": 0
      },
      "text/plain": [
       "Downloading data:   0%|          | 0.00/287k [00:00<?, ?B/s]"
      ]
     },
     "metadata": {},
     "output_type": "display_data"
    },
    {
     "data": {
      "application/vnd.jupyter.widget-view+json": {
       "model_id": "5b10b2cb49e441e28d3f98a6669fcfdd",
       "version_major": 2,
       "version_minor": 0
      },
      "text/plain": [
       "Extracting data files:   0%|          | 0/1 [00:00<?, ?it/s]"
      ]
     },
     "metadata": {},
     "output_type": "display_data"
    },
    {
     "data": {
      "application/vnd.jupyter.widget-view+json": {
       "model_id": "",
       "version_major": 2,
       "version_minor": 0
      },
      "text/plain": [
       "Generating train split:   0%|          | 0/3038 [00:00<?, ? examples/s]"
      ]
     },
     "metadata": {},
     "output_type": "display_data"
    },
    {
     "name": "stdout",
     "output_type": "stream",
     "text": [
      "Dataset parquet downloaded and prepared to /Users/SandeepKaur/.cache/huggingface/datasets/DBQ___parquet/DBQ--Burberry.Product.prices.United.States-8e7e8bbf0244a8a7/0.0.0/2a3b91fbd88a2c90d1dbbb32b460cf621d31bd5b05b934492fdef7d8d6f236ec. Subsequent calls will reuse this data.\n"
     ]
    },
    {
     "data": {
      "application/vnd.jupyter.widget-view+json": {
       "model_id": "25450cad6bb54b1dae326825133f7f5f",
       "version_major": 2,
       "version_minor": 0
      },
      "text/plain": [
       "  0%|          | 0/1 [00:00<?, ?it/s]"
      ]
     },
     "metadata": {},
     "output_type": "display_data"
    },
    {
     "data": {
      "application/vnd.jupyter.widget-view+json": {
       "model_id": "9bb8bd19d2b243a9947bb6a30ea2735b",
       "version_major": 2,
       "version_minor": 0
      },
      "text/plain": [
       "Downloading readme:   0%|          | 0.00/2.48k [00:00<?, ?B/s]"
      ]
     },
     "metadata": {},
     "output_type": "display_data"
    },
    {
     "name": "stdout",
     "output_type": "stream",
     "text": [
      "Downloading and preparing dataset None/None to /Users/SandeepKaur/.cache/huggingface/datasets/DBQ___parquet/DBQ--Chloe.Product.prices.United.States-5a591b16b134a250/0.0.0/2a3b91fbd88a2c90d1dbbb32b460cf621d31bd5b05b934492fdef7d8d6f236ec...\n"
     ]
    },
    {
     "data": {
      "application/vnd.jupyter.widget-view+json": {
       "model_id": "d07368304614438087a49d26bfb0c280",
       "version_major": 2,
       "version_minor": 0
      },
      "text/plain": [
       "Downloading data files:   0%|          | 0/1 [00:00<?, ?it/s]"
      ]
     },
     "metadata": {},
     "output_type": "display_data"
    },
    {
     "data": {
      "application/vnd.jupyter.widget-view+json": {
       "model_id": "54dcf4cc3597467a91db5dc102ed72d4",
       "version_major": 2,
       "version_minor": 0
      },
      "text/plain": [
       "Downloading data:   0%|          | 0.00/163k [00:00<?, ?B/s]"
      ]
     },
     "metadata": {},
     "output_type": "display_data"
    },
    {
     "data": {
      "application/vnd.jupyter.widget-view+json": {
       "model_id": "6217627ac69f4612a7936d5e7a105f98",
       "version_major": 2,
       "version_minor": 0
      },
      "text/plain": [
       "Extracting data files:   0%|          | 0/1 [00:00<?, ?it/s]"
      ]
     },
     "metadata": {},
     "output_type": "display_data"
    },
    {
     "data": {
      "application/vnd.jupyter.widget-view+json": {
       "model_id": "",
       "version_major": 2,
       "version_minor": 0
      },
      "text/plain": [
       "Generating train split:   0%|          | 0/2569 [00:00<?, ? examples/s]"
      ]
     },
     "metadata": {},
     "output_type": "display_data"
    },
    {
     "name": "stdout",
     "output_type": "stream",
     "text": [
      "Dataset parquet downloaded and prepared to /Users/SandeepKaur/.cache/huggingface/datasets/DBQ___parquet/DBQ--Chloe.Product.prices.United.States-5a591b16b134a250/0.0.0/2a3b91fbd88a2c90d1dbbb32b460cf621d31bd5b05b934492fdef7d8d6f236ec. Subsequent calls will reuse this data.\n"
     ]
    },
    {
     "data": {
      "application/vnd.jupyter.widget-view+json": {
       "model_id": "5d1eed70139d499dbb0e70a0eba8c045",
       "version_major": 2,
       "version_minor": 0
      },
      "text/plain": [
       "  0%|          | 0/1 [00:00<?, ?it/s]"
      ]
     },
     "metadata": {},
     "output_type": "display_data"
    }
   ],
   "source": [
    "# Load the dataset of US brands\n",
    "\n",
    "#We have canada data for first 4 brands, good for comparison among different countries\n",
    "data_Gucci_US = load_dataset(\"DBQ/Gucci.Product.prices.United.States\")\n",
    "data_Fendi_US = load_dataset(\"DBQ/Fendi.Product.prices.United.States\")\n",
    "data_LP_US = load_dataset(\"DBQ/Loro.Piana.Product.prices.United.States\")\n",
    "data_NAP_US = load_dataset(\"DBQ/Net.a.Porter.Product.prices.United.States\")\n",
    "\n",
    "#may be we can ignore these\n",
    "data_BV_US = load_dataset(\"DBQ/Bottega.Veneta.Product.prices.United.States\")\n",
    "data_Chanel_US = load_dataset(\"DBQ/Chanel.Product.prices.United.States\")\n",
    "data_RLL_US = load_dataset(\"DBQ/Rue.La.La.Product.prices.United.States\")\n",
    "data_MP_US = load_dataset(\"DBQ/Mr.Porter.Product.prices.United.States\")\n",
    "data_Burberry_US = load_dataset(\"DBQ/Burberry.Product.prices.United.States\")\n",
    "data_Chloe_US = load_dataset(\"DBQ/Chloe.Product.prices.United.States\")"
   ]
  },
  {
   "cell_type": "code",
   "execution_count": 14,
   "id": "e0a38b57",
   "metadata": {},
   "outputs": [],
   "source": [
    "# Convert the dataset to a DataFrame and save it to a CSV file in the current folder\n",
    "\n",
    "df_Gucci_US = pd.DataFrame(data_Gucci_US[\"train\"]) #5764 rows\n",
    "df_Gucci_US.to_csv(\"df_Gucci_US.csv\")\n",
    "\n",
    "df_Fendi_US = pd.DataFrame(data_Fendi_US[\"train\"]) #2897 rows\n",
    "df_Fendi_US.to_csv(\"df_Fendi_US.csv\")\n",
    "\n",
    "df_LP_US = pd.DataFrame(data_LP_US[\"train\"]) #1042 rows\n",
    "df_LP_US.to_csv(\"df_LP_US.csv\")\n",
    "\n",
    "df_NAP_US = pd.DataFrame(data_NAP_US[\"train\"])  #48920 rows\n",
    "df_NAP_US.to_csv(\"df_NAP_US.csv\")\n",
    "\n",
    "\n",
    "\n",
    "df_BV_US = pd.DataFrame(data_BV_US[\"train\"]) #4469 rows\n",
    "df_BV_US.to_csv(\"df_BV_US.csv\")\n",
    "\n",
    "df_Chanel_US = pd.DataFrame(data_Chanel_US[\"train\"]) #1452 rows\n",
    "df_Chanel_US.to_csv(\"df_Chanel_US.csv\")\n",
    "\n",
    "df_RLL_US = pd.DataFrame(data_RLL_US[\"train\"]) #7594 rows\n",
    "df_RLL_US.to_csv(\"df_RLL_US.csv\")\n",
    "\n",
    "df_MP_US = pd.DataFrame(data_MP_US[\"train\"]) #35741 rows\n",
    "df_MP_US.to_csv(\"df_MP_US.csv\")\n",
    "\n",
    "df_Burberry_US = pd.DataFrame(data_Burberry_US[\"train\"]) #3038 rows\n",
    "df_Burberry_US.to_csv(\"df_Burberry_US.csv\")\n",
    "\n",
    "df_Chloe_US = pd.DataFrame(data_Chloe_US[\"train\"]) #2569 rows\n",
    "df_Chloe_US.to_csv(\"df_Chloe_US.csv\")\n"
   ]
  },
  {
   "cell_type": "code",
   "execution_count": 44,
   "id": "225a48a0",
   "metadata": {},
   "outputs": [
    {
     "data": {
      "text/html": [
       "<div>\n",
       "<style scoped>\n",
       "    .dataframe tbody tr th:only-of-type {\n",
       "        vertical-align: middle;\n",
       "    }\n",
       "\n",
       "    .dataframe tbody tr th {\n",
       "        vertical-align: top;\n",
       "    }\n",
       "\n",
       "    .dataframe thead th {\n",
       "        text-align: right;\n",
       "    }\n",
       "</style>\n",
       "<table border=\"1\" class=\"dataframe\">\n",
       "  <thead>\n",
       "    <tr style=\"text-align: right;\">\n",
       "      <th></th>\n",
       "      <th>website_name</th>\n",
       "      <th>competence_date</th>\n",
       "      <th>country_code</th>\n",
       "      <th>currency_code</th>\n",
       "      <th>brand</th>\n",
       "      <th>category1_code</th>\n",
       "      <th>category2_code</th>\n",
       "      <th>category3_code</th>\n",
       "      <th>product_code</th>\n",
       "      <th>title</th>\n",
       "      <th>itemurl</th>\n",
       "      <th>imageurl</th>\n",
       "      <th>full_price</th>\n",
       "      <th>price</th>\n",
       "      <th>full_price_eur</th>\n",
       "      <th>price_eur</th>\n",
       "      <th>flg_discount</th>\n",
       "    </tr>\n",
       "  </thead>\n",
       "  <tbody>\n",
       "    <tr>\n",
       "      <th>0</th>\n",
       "      <td>Fendi</td>\n",
       "      <td>2023-11-17</td>\n",
       "      <td>USA</td>\n",
       "      <td>USD</td>\n",
       "      <td>FENDI</td>\n",
       "      <td>N.A.</td>\n",
       "      <td>N.A.</td>\n",
       "      <td>戒指</td>\n",
       "      <td>8AG945TL9F0RNG</td>\n",
       "      <td>포에버 펜디 링</td>\n",
       "      <td>https://www.fendi.com/us-en/woman/fashion-jewe...</td>\n",
       "      <td>https://static.fendi.com/dam/is/image/fendi/8A...</td>\n",
       "      <td>350.0</td>\n",
       "      <td>350.0</td>\n",
       "      <td>322.87</td>\n",
       "      <td>322.87</td>\n",
       "      <td>0</td>\n",
       "    </tr>\n",
       "    <tr>\n",
       "      <th>1</th>\n",
       "      <td>Fendi</td>\n",
       "      <td>2023-11-17</td>\n",
       "      <td>USA</td>\n",
       "      <td>USD</td>\n",
       "      <td>FENDI</td>\n",
       "      <td>None</td>\n",
       "      <td>None</td>\n",
       "      <td>None</td>\n",
       "      <td>8AH031B08F0TH0</td>\n",
       "      <td>ピアス</td>\n",
       "      <td>https://www.fendi.com/us-en/woman/fashion-jewe...</td>\n",
       "      <td>https://static.fendi.com/dam/is/image/fendi/8A...</td>\n",
       "      <td>550.0</td>\n",
       "      <td>550.0</td>\n",
       "      <td>507.38</td>\n",
       "      <td>507.38</td>\n",
       "      <td>0</td>\n",
       "    </tr>\n",
       "    <tr>\n",
       "      <th>2</th>\n",
       "      <td>Fendi</td>\n",
       "      <td>2023-11-17</td>\n",
       "      <td>USA</td>\n",
       "      <td>USD</td>\n",
       "      <td>FENDI</td>\n",
       "      <td>None</td>\n",
       "      <td>None</td>\n",
       "      <td>None</td>\n",
       "      <td>8AH251A44GF089U</td>\n",
       "      <td>시그니처 브레이슬릿</td>\n",
       "      <td>https://www.fendi.com/us-en/woman/fashion-jewe...</td>\n",
       "      <td>https://static.fendi.com/dam/is/image/fendi/8A...</td>\n",
       "      <td>490.0</td>\n",
       "      <td>490.0</td>\n",
       "      <td>452.02</td>\n",
       "      <td>452.02</td>\n",
       "      <td>0</td>\n",
       "    </tr>\n",
       "    <tr>\n",
       "      <th>3</th>\n",
       "      <td>Fendi</td>\n",
       "      <td>2023-11-17</td>\n",
       "      <td>USA</td>\n",
       "      <td>USD</td>\n",
       "      <td>FENDI</td>\n",
       "      <td>N.A.</td>\n",
       "      <td>N.A.</td>\n",
       "      <td>FENDI O'LOCK</td>\n",
       "      <td>8AH319B08F0CFK</td>\n",
       "      <td>오’락 링</td>\n",
       "      <td>https://www.fendi.com/us-en/woman/fashion-jewe...</td>\n",
       "      <td>https://static.fendi.com/dam/is/image/fendi/8A...</td>\n",
       "      <td>290.0</td>\n",
       "      <td>290.0</td>\n",
       "      <td>267.52</td>\n",
       "      <td>267.52</td>\n",
       "      <td>0</td>\n",
       "    </tr>\n",
       "    <tr>\n",
       "      <th>4</th>\n",
       "      <td>Fendi</td>\n",
       "      <td>2023-11-17</td>\n",
       "      <td>USA</td>\n",
       "      <td>USD</td>\n",
       "      <td>FENDI</td>\n",
       "      <td>None</td>\n",
       "      <td>None</td>\n",
       "      <td>None</td>\n",
       "      <td>8AH369TL9F0A47</td>\n",
       "      <td>포에버 펜디 이어링</td>\n",
       "      <td>https://www.fendi.com/us-en/woman/fashion-jewe...</td>\n",
       "      <td>https://static.fendi.com/dam/is/image/fendi/8A...</td>\n",
       "      <td>490.0</td>\n",
       "      <td>490.0</td>\n",
       "      <td>452.02</td>\n",
       "      <td>452.02</td>\n",
       "      <td>0</td>\n",
       "    </tr>\n",
       "    <tr>\n",
       "      <th>...</th>\n",
       "      <td>...</td>\n",
       "      <td>...</td>\n",
       "      <td>...</td>\n",
       "      <td>...</td>\n",
       "      <td>...</td>\n",
       "      <td>...</td>\n",
       "      <td>...</td>\n",
       "      <td>...</td>\n",
       "      <td>...</td>\n",
       "      <td>...</td>\n",
       "      <td>...</td>\n",
       "      <td>...</td>\n",
       "      <td>...</td>\n",
       "      <td>...</td>\n",
       "      <td>...</td>\n",
       "      <td>...</td>\n",
       "      <td>...</td>\n",
       "    </tr>\n",
       "    <tr>\n",
       "      <th>2892</th>\n",
       "      <td>Fendi</td>\n",
       "      <td>2023-11-17</td>\n",
       "      <td>USA</td>\n",
       "      <td>USD</td>\n",
       "      <td>FENDI</td>\n",
       "      <td>女士</td>\n",
       "      <td>手袋</td>\n",
       "      <td>FENDI SUNSHINE</td>\n",
       "      <td>8BS051AMCIF0NYJ</td>\n",
       "      <td>미니 선샤인 쇼퍼</td>\n",
       "      <td>https://www.fendi.com/us-en/woman/bags/mini-su...</td>\n",
       "      <td>https://static.fendi.com/dam/is/image/fendi/8B...</td>\n",
       "      <td>1980.0</td>\n",
       "      <td>1980.0</td>\n",
       "      <td>1826.56</td>\n",
       "      <td>1826.56</td>\n",
       "      <td>0</td>\n",
       "    </tr>\n",
       "    <tr>\n",
       "      <th>2893</th>\n",
       "      <td>Fendi</td>\n",
       "      <td>2023-11-17</td>\n",
       "      <td>USA</td>\n",
       "      <td>USD</td>\n",
       "      <td>FENDI</td>\n",
       "      <td>女士</td>\n",
       "      <td>星座系列</td>\n",
       "      <td>FENDI SUNSHINE</td>\n",
       "      <td>8BS051ANWSF1LMM</td>\n",
       "      <td>미니 선샤인 쇼퍼</td>\n",
       "      <td>https://www.fendi.com/us-en/8BS051ANWSF1LMM.html</td>\n",
       "      <td>https://static.fendi.com/dam/is/image/fendi/8B...</td>\n",
       "      <td>1750.0</td>\n",
       "      <td>1750.0</td>\n",
       "      <td>1614.39</td>\n",
       "      <td>1614.39</td>\n",
       "      <td>0</td>\n",
       "    </tr>\n",
       "    <tr>\n",
       "      <th>2894</th>\n",
       "      <td>Fendi</td>\n",
       "      <td>2023-11-17</td>\n",
       "      <td>USA</td>\n",
       "      <td>USD</td>\n",
       "      <td>FENDI</td>\n",
       "      <td>女士</td>\n",
       "      <td>手袋</td>\n",
       "      <td>单肩包和斜挎包</td>\n",
       "      <td>8BS067ABVLF14N1</td>\n",
       "      <td>바이 더 웨이 미니</td>\n",
       "      <td>https://www.fendi.com/us-en/woman/bags/by-the-...</td>\n",
       "      <td>https://static.fendi.com/dam/is/image/fendi/8B...</td>\n",
       "      <td>1750.0</td>\n",
       "      <td>1750.0</td>\n",
       "      <td>1614.39</td>\n",
       "      <td>1614.39</td>\n",
       "      <td>0</td>\n",
       "    </tr>\n",
       "    <tr>\n",
       "      <th>2895</th>\n",
       "      <td>Fendi</td>\n",
       "      <td>2023-11-17</td>\n",
       "      <td>USA</td>\n",
       "      <td>USD</td>\n",
       "      <td>FENDI</td>\n",
       "      <td>女士</td>\n",
       "      <td>星座系列</td>\n",
       "      <td>单肩包和斜挎包</td>\n",
       "      <td>8BS067AJR2F1LB6</td>\n",
       "      <td>바이 더 웨이 미니</td>\n",
       "      <td>https://www.fendi.com/us-en/8BS067AJR2F1LB6.html</td>\n",
       "      <td>https://static.fendi.com/dam/is/image/fendi/8B...</td>\n",
       "      <td>1750.0</td>\n",
       "      <td>1750.0</td>\n",
       "      <td>1614.39</td>\n",
       "      <td>1614.39</td>\n",
       "      <td>0</td>\n",
       "    </tr>\n",
       "    <tr>\n",
       "      <th>2896</th>\n",
       "      <td>Fendi</td>\n",
       "      <td>2023-11-17</td>\n",
       "      <td>USA</td>\n",
       "      <td>USD</td>\n",
       "      <td>FENDI</td>\n",
       "      <td>女士</td>\n",
       "      <td>手袋</td>\n",
       "      <td>FENDIGRAPHY</td>\n",
       "      <td>8BS081A5DYF1JCT</td>\n",
       "      <td>펜디그라피 미니</td>\n",
       "      <td>https://www.fendi.com/us-en/8BS081A5DYF1JCT.html</td>\n",
       "      <td>https://static.fendi.com/dam/is/image/fendi/8B...</td>\n",
       "      <td>2150.0</td>\n",
       "      <td>2150.0</td>\n",
       "      <td>1983.39</td>\n",
       "      <td>1983.39</td>\n",
       "      <td>0</td>\n",
       "    </tr>\n",
       "  </tbody>\n",
       "</table>\n",
       "<p>2897 rows × 17 columns</p>\n",
       "</div>"
      ],
      "text/plain": [
       "     website_name competence_date country_code currency_code  brand  \\\n",
       "0           Fendi      2023-11-17          USA           USD  FENDI   \n",
       "1           Fendi      2023-11-17          USA           USD  FENDI   \n",
       "2           Fendi      2023-11-17          USA           USD  FENDI   \n",
       "3           Fendi      2023-11-17          USA           USD  FENDI   \n",
       "4           Fendi      2023-11-17          USA           USD  FENDI   \n",
       "...           ...             ...          ...           ...    ...   \n",
       "2892        Fendi      2023-11-17          USA           USD  FENDI   \n",
       "2893        Fendi      2023-11-17          USA           USD  FENDI   \n",
       "2894        Fendi      2023-11-17          USA           USD  FENDI   \n",
       "2895        Fendi      2023-11-17          USA           USD  FENDI   \n",
       "2896        Fendi      2023-11-17          USA           USD  FENDI   \n",
       "\n",
       "     category1_code category2_code  category3_code     product_code  \\\n",
       "0              N.A.           N.A.              戒指   8AG945TL9F0RNG   \n",
       "1              None           None            None   8AH031B08F0TH0   \n",
       "2              None           None            None  8AH251A44GF089U   \n",
       "3              N.A.           N.A.    FENDI O'LOCK   8AH319B08F0CFK   \n",
       "4              None           None            None   8AH369TL9F0A47   \n",
       "...             ...            ...             ...              ...   \n",
       "2892             女士             手袋  FENDI SUNSHINE  8BS051AMCIF0NYJ   \n",
       "2893             女士           星座系列  FENDI SUNSHINE  8BS051ANWSF1LMM   \n",
       "2894             女士             手袋         单肩包和斜挎包  8BS067ABVLF14N1   \n",
       "2895             女士           星座系列         单肩包和斜挎包  8BS067AJR2F1LB6   \n",
       "2896             女士             手袋     FENDIGRAPHY  8BS081A5DYF1JCT   \n",
       "\n",
       "           title                                            itemurl  \\\n",
       "0       포에버 펜디 링  https://www.fendi.com/us-en/woman/fashion-jewe...   \n",
       "1            ピアス  https://www.fendi.com/us-en/woman/fashion-jewe...   \n",
       "2     시그니처 브레이슬릿  https://www.fendi.com/us-en/woman/fashion-jewe...   \n",
       "3          오’락 링  https://www.fendi.com/us-en/woman/fashion-jewe...   \n",
       "4     포에버 펜디 이어링  https://www.fendi.com/us-en/woman/fashion-jewe...   \n",
       "...          ...                                                ...   \n",
       "2892   미니 선샤인 쇼퍼  https://www.fendi.com/us-en/woman/bags/mini-su...   \n",
       "2893   미니 선샤인 쇼퍼   https://www.fendi.com/us-en/8BS051ANWSF1LMM.html   \n",
       "2894  바이 더 웨이 미니  https://www.fendi.com/us-en/woman/bags/by-the-...   \n",
       "2895  바이 더 웨이 미니   https://www.fendi.com/us-en/8BS067AJR2F1LB6.html   \n",
       "2896    펜디그라피 미니   https://www.fendi.com/us-en/8BS081A5DYF1JCT.html   \n",
       "\n",
       "                                               imageurl  full_price   price  \\\n",
       "0     https://static.fendi.com/dam/is/image/fendi/8A...       350.0   350.0   \n",
       "1     https://static.fendi.com/dam/is/image/fendi/8A...       550.0   550.0   \n",
       "2     https://static.fendi.com/dam/is/image/fendi/8A...       490.0   490.0   \n",
       "3     https://static.fendi.com/dam/is/image/fendi/8A...       290.0   290.0   \n",
       "4     https://static.fendi.com/dam/is/image/fendi/8A...       490.0   490.0   \n",
       "...                                                 ...         ...     ...   \n",
       "2892  https://static.fendi.com/dam/is/image/fendi/8B...      1980.0  1980.0   \n",
       "2893  https://static.fendi.com/dam/is/image/fendi/8B...      1750.0  1750.0   \n",
       "2894  https://static.fendi.com/dam/is/image/fendi/8B...      1750.0  1750.0   \n",
       "2895  https://static.fendi.com/dam/is/image/fendi/8B...      1750.0  1750.0   \n",
       "2896  https://static.fendi.com/dam/is/image/fendi/8B...      2150.0  2150.0   \n",
       "\n",
       "      full_price_eur  price_eur  flg_discount  \n",
       "0             322.87     322.87             0  \n",
       "1             507.38     507.38             0  \n",
       "2             452.02     452.02             0  \n",
       "3             267.52     267.52             0  \n",
       "4             452.02     452.02             0  \n",
       "...              ...        ...           ...  \n",
       "2892         1826.56    1826.56             0  \n",
       "2893         1614.39    1614.39             0  \n",
       "2894         1614.39    1614.39             0  \n",
       "2895         1614.39    1614.39             0  \n",
       "2896         1983.39    1983.39             0  \n",
       "\n",
       "[2897 rows x 17 columns]"
      ]
     },
     "execution_count": 44,
     "metadata": {},
     "output_type": "execute_result"
    }
   ],
   "source": [
    "df_Fendi_US"
   ]
  },
  {
   "cell_type": "markdown",
   "id": "6dda9390",
   "metadata": {},
   "source": [
    "### UK Brands"
   ]
  },
  {
   "cell_type": "code",
   "execution_count": 26,
   "id": "acbb162d",
   "metadata": {},
   "outputs": [
    {
     "name": "stderr",
     "output_type": "stream",
     "text": [
      "Found cached dataset parquet (/Users/SandeepKaur/.cache/huggingface/datasets/DBQ___parquet/DBQ--Louis.Vuitton.Product.prices.United.Kingdom-a81556a739363cd6/0.0.0/2a3b91fbd88a2c90d1dbbb32b460cf621d31bd5b05b934492fdef7d8d6f236ec)\n"
     ]
    },
    {
     "data": {
      "application/vnd.jupyter.widget-view+json": {
       "model_id": "da34be67e3644594826ea75728b291c9",
       "version_major": 2,
       "version_minor": 0
      },
      "text/plain": [
       "  0%|          | 0/1 [00:00<?, ?it/s]"
      ]
     },
     "metadata": {},
     "output_type": "display_data"
    },
    {
     "data": {
      "application/vnd.jupyter.widget-view+json": {
       "model_id": "53b8a5b3d3f84e368695b0288e887ff3",
       "version_major": 2,
       "version_minor": 0
      },
      "text/plain": [
       "Downloading readme:   0%|          | 0.00/2.45k [00:00<?, ?B/s]"
      ]
     },
     "metadata": {},
     "output_type": "display_data"
    },
    {
     "name": "stdout",
     "output_type": "stream",
     "text": [
      "Downloading and preparing dataset None/None to /Users/SandeepKaur/.cache/huggingface/datasets/DBQ___parquet/DBQ--Net.a.Porter.Product.prices.United.Kingdom-162d72e6e73cd055/0.0.0/2a3b91fbd88a2c90d1dbbb32b460cf621d31bd5b05b934492fdef7d8d6f236ec...\n"
     ]
    },
    {
     "data": {
      "application/vnd.jupyter.widget-view+json": {
       "model_id": "b8ad9a19e04148c1979d7171ba629336",
       "version_major": 2,
       "version_minor": 0
      },
      "text/plain": [
       "Downloading data files:   0%|          | 0/1 [00:00<?, ?it/s]"
      ]
     },
     "metadata": {},
     "output_type": "display_data"
    },
    {
     "data": {
      "application/vnd.jupyter.widget-view+json": {
       "model_id": "ae446fa154c948e3be2be77fe09645af",
       "version_major": 2,
       "version_minor": 0
      },
      "text/plain": [
       "Downloading data:   0%|          | 0.00/6.87M [00:00<?, ?B/s]"
      ]
     },
     "metadata": {},
     "output_type": "display_data"
    },
    {
     "data": {
      "application/vnd.jupyter.widget-view+json": {
       "model_id": "5a77d6d0ebf7406694cf80bdd8fc10a6",
       "version_major": 2,
       "version_minor": 0
      },
      "text/plain": [
       "Extracting data files:   0%|          | 0/1 [00:00<?, ?it/s]"
      ]
     },
     "metadata": {},
     "output_type": "display_data"
    },
    {
     "data": {
      "application/vnd.jupyter.widget-view+json": {
       "model_id": "",
       "version_major": 2,
       "version_minor": 0
      },
      "text/plain": [
       "Generating train split:   0%|          | 0/56980 [00:00<?, ? examples/s]"
      ]
     },
     "metadata": {},
     "output_type": "display_data"
    },
    {
     "name": "stdout",
     "output_type": "stream",
     "text": [
      "Dataset parquet downloaded and prepared to /Users/SandeepKaur/.cache/huggingface/datasets/DBQ___parquet/DBQ--Net.a.Porter.Product.prices.United.Kingdom-162d72e6e73cd055/0.0.0/2a3b91fbd88a2c90d1dbbb32b460cf621d31bd5b05b934492fdef7d8d6f236ec. Subsequent calls will reuse this data.\n"
     ]
    },
    {
     "data": {
      "application/vnd.jupyter.widget-view+json": {
       "model_id": "4be1966759844de9b0c289a0ab3c4c00",
       "version_major": 2,
       "version_minor": 0
      },
      "text/plain": [
       "  0%|          | 0/1 [00:00<?, ?it/s]"
      ]
     },
     "metadata": {},
     "output_type": "display_data"
    },
    {
     "data": {
      "application/vnd.jupyter.widget-view+json": {
       "model_id": "62de68ef072e48eeb4b7c011f704ae44",
       "version_major": 2,
       "version_minor": 0
      },
      "text/plain": [
       "Downloading readme:   0%|          | 0.00/2.32k [00:00<?, ?B/s]"
      ]
     },
     "metadata": {},
     "output_type": "display_data"
    },
    {
     "name": "stdout",
     "output_type": "stream",
     "text": [
      "Downloading and preparing dataset None/None to /Users/SandeepKaur/.cache/huggingface/datasets/DBQ___parquet/DBQ--Prada.Product.prices.United.Kingdom-54dd78d5c97ea9e3/0.0.0/2a3b91fbd88a2c90d1dbbb32b460cf621d31bd5b05b934492fdef7d8d6f236ec...\n"
     ]
    },
    {
     "data": {
      "application/vnd.jupyter.widget-view+json": {
       "model_id": "382aab908eff42a59846ac7605f59315",
       "version_major": 2,
       "version_minor": 0
      },
      "text/plain": [
       "Downloading data files:   0%|          | 0/1 [00:00<?, ?it/s]"
      ]
     },
     "metadata": {},
     "output_type": "display_data"
    },
    {
     "data": {
      "application/vnd.jupyter.widget-view+json": {
       "model_id": "6a3eb3ab0a1f4a67a167e5716550f781",
       "version_major": 2,
       "version_minor": 0
      },
      "text/plain": [
       "Downloading data:   0%|          | 0.00/327k [00:00<?, ?B/s]"
      ]
     },
     "metadata": {},
     "output_type": "display_data"
    },
    {
     "data": {
      "application/vnd.jupyter.widget-view+json": {
       "model_id": "d74467f46a2f46ab86a23f9c9e3957ce",
       "version_major": 2,
       "version_minor": 0
      },
      "text/plain": [
       "Extracting data files:   0%|          | 0/1 [00:00<?, ?it/s]"
      ]
     },
     "metadata": {},
     "output_type": "display_data"
    },
    {
     "data": {
      "application/vnd.jupyter.widget-view+json": {
       "model_id": "",
       "version_major": 2,
       "version_minor": 0
      },
      "text/plain": [
       "Generating train split:   0%|          | 0/2180 [00:00<?, ? examples/s]"
      ]
     },
     "metadata": {},
     "output_type": "display_data"
    },
    {
     "name": "stdout",
     "output_type": "stream",
     "text": [
      "Dataset parquet downloaded and prepared to /Users/SandeepKaur/.cache/huggingface/datasets/DBQ___parquet/DBQ--Prada.Product.prices.United.Kingdom-54dd78d5c97ea9e3/0.0.0/2a3b91fbd88a2c90d1dbbb32b460cf621d31bd5b05b934492fdef7d8d6f236ec. Subsequent calls will reuse this data.\n"
     ]
    },
    {
     "data": {
      "application/vnd.jupyter.widget-view+json": {
       "model_id": "e0b4b6d7564d4749aa2dbc296ef91cc4",
       "version_major": 2,
       "version_minor": 0
      },
      "text/plain": [
       "  0%|          | 0/1 [00:00<?, ?it/s]"
      ]
     },
     "metadata": {},
     "output_type": "display_data"
    },
    {
     "data": {
      "application/vnd.jupyter.widget-view+json": {
       "model_id": "ce86068d63474dccb73eecea77788843",
       "version_major": 2,
       "version_minor": 0
      },
      "text/plain": [
       "Downloading readme:   0%|          | 0.00/2.38k [00:00<?, ?B/s]"
      ]
     },
     "metadata": {},
     "output_type": "display_data"
    },
    {
     "name": "stdout",
     "output_type": "stream",
     "text": [
      "Downloading and preparing dataset None/None to /Users/SandeepKaur/.cache/huggingface/datasets/DBQ___parquet/DBQ--Saint.Laurent.Product.prices.United.Kingdom-41b5d0661ecd972c/0.0.0/2a3b91fbd88a2c90d1dbbb32b460cf621d31bd5b05b934492fdef7d8d6f236ec...\n"
     ]
    },
    {
     "data": {
      "application/vnd.jupyter.widget-view+json": {
       "model_id": "5f047051b2b4492485968d4a68a5cc37",
       "version_major": 2,
       "version_minor": 0
      },
      "text/plain": [
       "Downloading data files:   0%|          | 0/1 [00:00<?, ?it/s]"
      ]
     },
     "metadata": {},
     "output_type": "display_data"
    },
    {
     "data": {
      "application/vnd.jupyter.widget-view+json": {
       "model_id": "9f7576e18ac14e87a9b9c5db54e0070d",
       "version_major": 2,
       "version_minor": 0
      },
      "text/plain": [
       "Downloading data:   0%|          | 0.00/377k [00:00<?, ?B/s]"
      ]
     },
     "metadata": {},
     "output_type": "display_data"
    },
    {
     "data": {
      "application/vnd.jupyter.widget-view+json": {
       "model_id": "8de290c17f9c4561bbe4542ef8905c34",
       "version_major": 2,
       "version_minor": 0
      },
      "text/plain": [
       "Extracting data files:   0%|          | 0/1 [00:00<?, ?it/s]"
      ]
     },
     "metadata": {},
     "output_type": "display_data"
    },
    {
     "data": {
      "application/vnd.jupyter.widget-view+json": {
       "model_id": "",
       "version_major": 2,
       "version_minor": 0
      },
      "text/plain": [
       "Generating train split:   0%|          | 0/3063 [00:00<?, ? examples/s]"
      ]
     },
     "metadata": {},
     "output_type": "display_data"
    },
    {
     "name": "stdout",
     "output_type": "stream",
     "text": [
      "Dataset parquet downloaded and prepared to /Users/SandeepKaur/.cache/huggingface/datasets/DBQ___parquet/DBQ--Saint.Laurent.Product.prices.United.Kingdom-41b5d0661ecd972c/0.0.0/2a3b91fbd88a2c90d1dbbb32b460cf621d31bd5b05b934492fdef7d8d6f236ec. Subsequent calls will reuse this data.\n"
     ]
    },
    {
     "data": {
      "application/vnd.jupyter.widget-view+json": {
       "model_id": "c870d2f6a5bd40e7b659805d0bf25b82",
       "version_major": 2,
       "version_minor": 0
      },
      "text/plain": [
       "  0%|          | 0/1 [00:00<?, ?it/s]"
      ]
     },
     "metadata": {},
     "output_type": "display_data"
    },
    {
     "data": {
      "application/vnd.jupyter.widget-view+json": {
       "model_id": "1450403165c444aeaef00a03b51bd0a9",
       "version_major": 2,
       "version_minor": 0
      },
      "text/plain": [
       "Downloading readme:   0%|          | 0.00/2.37k [00:00<?, ?B/s]"
      ]
     },
     "metadata": {},
     "output_type": "display_data"
    },
    {
     "name": "stdout",
     "output_type": "stream",
     "text": [
      "Downloading and preparing dataset None/None to /Users/SandeepKaur/.cache/huggingface/datasets/DBQ___parquet/DBQ--Blickers.Product.prices.United.Kingdom-0d9ca6369db00c2f/0.0.0/2a3b91fbd88a2c90d1dbbb32b460cf621d31bd5b05b934492fdef7d8d6f236ec...\n"
     ]
    },
    {
     "data": {
      "application/vnd.jupyter.widget-view+json": {
       "model_id": "9fd69962c7d149aea6585603d91f2a8b",
       "version_major": 2,
       "version_minor": 0
      },
      "text/plain": [
       "Downloading data files:   0%|          | 0/1 [00:00<?, ?it/s]"
      ]
     },
     "metadata": {},
     "output_type": "display_data"
    },
    {
     "data": {
      "application/vnd.jupyter.widget-view+json": {
       "model_id": "7662ae8faa1c4984b860c0803206e8f5",
       "version_major": 2,
       "version_minor": 0
      },
      "text/plain": [
       "Downloading data:   0%|          | 0.00/5.23M [00:00<?, ?B/s]"
      ]
     },
     "metadata": {},
     "output_type": "display_data"
    },
    {
     "data": {
      "application/vnd.jupyter.widget-view+json": {
       "model_id": "420ab3febdb14592b0175b1b5acd3ba9",
       "version_major": 2,
       "version_minor": 0
      },
      "text/plain": [
       "Extracting data files:   0%|          | 0/1 [00:00<?, ?it/s]"
      ]
     },
     "metadata": {},
     "output_type": "display_data"
    },
    {
     "data": {
      "application/vnd.jupyter.widget-view+json": {
       "model_id": "",
       "version_major": 2,
       "version_minor": 0
      },
      "text/plain": [
       "Generating train split:   0%|          | 0/28256 [00:00<?, ? examples/s]"
      ]
     },
     "metadata": {},
     "output_type": "display_data"
    },
    {
     "name": "stdout",
     "output_type": "stream",
     "text": [
      "Dataset parquet downloaded and prepared to /Users/SandeepKaur/.cache/huggingface/datasets/DBQ___parquet/DBQ--Blickers.Product.prices.United.Kingdom-0d9ca6369db00c2f/0.0.0/2a3b91fbd88a2c90d1dbbb32b460cf621d31bd5b05b934492fdef7d8d6f236ec. Subsequent calls will reuse this data.\n"
     ]
    },
    {
     "data": {
      "application/vnd.jupyter.widget-view+json": {
       "model_id": "1e6c0f0457f544279334d7042d56d41a",
       "version_major": 2,
       "version_minor": 0
      },
      "text/plain": [
       "  0%|          | 0/1 [00:00<?, ?it/s]"
      ]
     },
     "metadata": {},
     "output_type": "display_data"
    },
    {
     "data": {
      "application/vnd.jupyter.widget-view+json": {
       "model_id": "d9784cf8ba1c413896a724f7e2501ed9",
       "version_major": 2,
       "version_minor": 0
      },
      "text/plain": [
       "Downloading readme:   0%|          | 0.00/2.48k [00:00<?, ?B/s]"
      ]
     },
     "metadata": {},
     "output_type": "display_data"
    },
    {
     "name": "stdout",
     "output_type": "stream",
     "text": [
      "Downloading and preparing dataset None/None to /Users/SandeepKaur/.cache/huggingface/datasets/DBQ___parquet/DBQ--My.Theresa.Product.prices.United.Kingdom-f043269b090d5e04/0.0.0/2a3b91fbd88a2c90d1dbbb32b460cf621d31bd5b05b934492fdef7d8d6f236ec...\n"
     ]
    },
    {
     "data": {
      "application/vnd.jupyter.widget-view+json": {
       "model_id": "33c73b6f05544dd29eb6761879b8aede",
       "version_major": 2,
       "version_minor": 0
      },
      "text/plain": [
       "Downloading data files:   0%|          | 0/1 [00:00<?, ?it/s]"
      ]
     },
     "metadata": {},
     "output_type": "display_data"
    },
    {
     "data": {
      "application/vnd.jupyter.widget-view+json": {
       "model_id": "4675269ec9aa4c399178c558189e1d3a",
       "version_major": 2,
       "version_minor": 0
      },
      "text/plain": [
       "Downloading data:   0%|          | 0.00/10.2M [00:00<?, ?B/s]"
      ]
     },
     "metadata": {},
     "output_type": "display_data"
    },
    {
     "data": {
      "application/vnd.jupyter.widget-view+json": {
       "model_id": "2fa11c8056b74bf4a87f46ce0ea7e832",
       "version_major": 2,
       "version_minor": 0
      },
      "text/plain": [
       "Extracting data files:   0%|          | 0/1 [00:00<?, ?it/s]"
      ]
     },
     "metadata": {},
     "output_type": "display_data"
    },
    {
     "data": {
      "application/vnd.jupyter.widget-view+json": {
       "model_id": "",
       "version_major": 2,
       "version_minor": 0
      },
      "text/plain": [
       "Generating train split:   0%|          | 0/97884 [00:00<?, ? examples/s]"
      ]
     },
     "metadata": {},
     "output_type": "display_data"
    },
    {
     "name": "stdout",
     "output_type": "stream",
     "text": [
      "Dataset parquet downloaded and prepared to /Users/SandeepKaur/.cache/huggingface/datasets/DBQ___parquet/DBQ--My.Theresa.Product.prices.United.Kingdom-f043269b090d5e04/0.0.0/2a3b91fbd88a2c90d1dbbb32b460cf621d31bd5b05b934492fdef7d8d6f236ec. Subsequent calls will reuse this data.\n"
     ]
    },
    {
     "data": {
      "application/vnd.jupyter.widget-view+json": {
       "model_id": "031e4d8634574c9e9d2a2a0f52a2ba77",
       "version_major": 2,
       "version_minor": 0
      },
      "text/plain": [
       "  0%|          | 0/1 [00:00<?, ?it/s]"
      ]
     },
     "metadata": {},
     "output_type": "display_data"
    },
    {
     "data": {
      "application/vnd.jupyter.widget-view+json": {
       "model_id": "a058dc88b08c4d038bb4da72d40936fc",
       "version_major": 2,
       "version_minor": 0
      },
      "text/plain": [
       "Downloading readme:   0%|          | 0.00/2.35k [00:00<?, ?B/s]"
      ]
     },
     "metadata": {},
     "output_type": "display_data"
    },
    {
     "name": "stdout",
     "output_type": "stream",
     "text": [
      "Downloading and preparing dataset None/None to /Users/SandeepKaur/.cache/huggingface/datasets/DBQ___parquet/DBQ--Celine.Product.prices.United.Kingdom-17fbbaa26b4c6523/0.0.0/2a3b91fbd88a2c90d1dbbb32b460cf621d31bd5b05b934492fdef7d8d6f236ec...\n"
     ]
    },
    {
     "data": {
      "application/vnd.jupyter.widget-view+json": {
       "model_id": "f1ce51a5b22a423f86ab53658a64b4a2",
       "version_major": 2,
       "version_minor": 0
      },
      "text/plain": [
       "Downloading data files:   0%|          | 0/1 [00:00<?, ?it/s]"
      ]
     },
     "metadata": {},
     "output_type": "display_data"
    },
    {
     "data": {
      "application/vnd.jupyter.widget-view+json": {
       "model_id": "8e168b20fdc6472aa04f0d7060eeb01e",
       "version_major": 2,
       "version_minor": 0
      },
      "text/plain": [
       "Downloading data:   0%|          | 0.00/75.5k [00:00<?, ?B/s]"
      ]
     },
     "metadata": {},
     "output_type": "display_data"
    },
    {
     "data": {
      "application/vnd.jupyter.widget-view+json": {
       "model_id": "1affc5852f3a460cbd6a700b24ccc0a7",
       "version_major": 2,
       "version_minor": 0
      },
      "text/plain": [
       "Extracting data files:   0%|          | 0/1 [00:00<?, ?it/s]"
      ]
     },
     "metadata": {},
     "output_type": "display_data"
    },
    {
     "data": {
      "application/vnd.jupyter.widget-view+json": {
       "model_id": "",
       "version_major": 2,
       "version_minor": 0
      },
      "text/plain": [
       "Generating train split:   0%|          | 0/658 [00:00<?, ? examples/s]"
      ]
     },
     "metadata": {},
     "output_type": "display_data"
    },
    {
     "name": "stdout",
     "output_type": "stream",
     "text": [
      "Dataset parquet downloaded and prepared to /Users/SandeepKaur/.cache/huggingface/datasets/DBQ___parquet/DBQ--Celine.Product.prices.United.Kingdom-17fbbaa26b4c6523/0.0.0/2a3b91fbd88a2c90d1dbbb32b460cf621d31bd5b05b934492fdef7d8d6f236ec. Subsequent calls will reuse this data.\n"
     ]
    },
    {
     "data": {
      "application/vnd.jupyter.widget-view+json": {
       "model_id": "edc3db249f1042e7bed224597a87dab0",
       "version_major": 2,
       "version_minor": 0
      },
      "text/plain": [
       "  0%|          | 0/1 [00:00<?, ?it/s]"
      ]
     },
     "metadata": {},
     "output_type": "display_data"
    },
    {
     "data": {
      "application/vnd.jupyter.widget-view+json": {
       "model_id": "f139b887027d4f0c89c75f9dfb89b946",
       "version_major": 2,
       "version_minor": 0
      },
      "text/plain": [
       "Downloading readme:   0%|          | 0.00/2.46k [00:00<?, ?B/s]"
      ]
     },
     "metadata": {},
     "output_type": "display_data"
    },
    {
     "name": "stdout",
     "output_type": "stream",
     "text": [
      "Downloading and preparing dataset None/None to /Users/SandeepKaur/.cache/huggingface/datasets/DBQ___parquet/DBQ--Farfetch.Product.prices.United.Kingdom-5885a304a4c6a9af/0.0.0/2a3b91fbd88a2c90d1dbbb32b460cf621d31bd5b05b934492fdef7d8d6f236ec...\n"
     ]
    },
    {
     "data": {
      "application/vnd.jupyter.widget-view+json": {
       "model_id": "9eb67e2df8d34aa29bd8863e9889b2f4",
       "version_major": 2,
       "version_minor": 0
      },
      "text/plain": [
       "Downloading data files:   0%|          | 0/1 [00:00<?, ?it/s]"
      ]
     },
     "metadata": {},
     "output_type": "display_data"
    },
    {
     "data": {
      "application/vnd.jupyter.widget-view+json": {
       "model_id": "c9d36b5f5609424d8bf89f793231c4ac",
       "version_major": 2,
       "version_minor": 0
      },
      "text/plain": [
       "Downloading data:   0%|          | 0.00/80.5M [00:00<?, ?B/s]"
      ]
     },
     "metadata": {},
     "output_type": "display_data"
    },
    {
     "data": {
      "application/vnd.jupyter.widget-view+json": {
       "model_id": "b5c2f2f4835346bfb854f17213944a8c",
       "version_major": 2,
       "version_minor": 0
      },
      "text/plain": [
       "Extracting data files:   0%|          | 0/1 [00:00<?, ?it/s]"
      ]
     },
     "metadata": {},
     "output_type": "display_data"
    },
    {
     "data": {
      "application/vnd.jupyter.widget-view+json": {
       "model_id": "",
       "version_major": 2,
       "version_minor": 0
      },
      "text/plain": [
       "Generating train split:   0%|          | 0/613571 [00:00<?, ? examples/s]"
      ]
     },
     "metadata": {},
     "output_type": "display_data"
    },
    {
     "name": "stdout",
     "output_type": "stream",
     "text": [
      "Dataset parquet downloaded and prepared to /Users/SandeepKaur/.cache/huggingface/datasets/DBQ___parquet/DBQ--Farfetch.Product.prices.United.Kingdom-5885a304a4c6a9af/0.0.0/2a3b91fbd88a2c90d1dbbb32b460cf621d31bd5b05b934492fdef7d8d6f236ec. Subsequent calls will reuse this data.\n"
     ]
    },
    {
     "data": {
      "application/vnd.jupyter.widget-view+json": {
       "model_id": "ba424961aaad40748c536229f74d2f9d",
       "version_major": 2,
       "version_minor": 0
      },
      "text/plain": [
       "  0%|          | 0/1 [00:00<?, ?it/s]"
      ]
     },
     "metadata": {},
     "output_type": "display_data"
    }
   ],
   "source": [
    "# Load the dataset of UK brands\n",
    "\n",
    "data_LV_UK = load_dataset(\"DBQ/Louis.Vuitton.Product.prices.United.Kingdom\")\n",
    "data_NAP_UK = load_dataset(\"DBQ/Net.a.Porter.Product.prices.United.Kingdom\")\n",
    "\n",
    "\n",
    "data_Prada_UK = load_dataset(\"DBQ/Prada.Product.prices.United.Kingdom\")\n",
    "data_SL_UK = load_dataset(\"DBQ/Saint.Laurent.Product.prices.United.Kingdom\")\n",
    "data_Blickers_UK = load_dataset(\"DBQ/Blickers.Product.prices.United.Kingdom\")\n",
    "data_MT_UK = load_dataset(\"DBQ/My.Theresa.Product.prices.United.Kingdom\")\n",
    "data_Celine_UK = load_dataset(\"DBQ/Celine.Product.prices.United.Kingdom\")\n",
    "data_Farfetch_UK = load_dataset(\"DBQ/Farfetch.Product.prices.United.Kingdom\")\n"
   ]
  },
  {
   "cell_type": "code",
   "execution_count": 35,
   "id": "d04e0829",
   "metadata": {},
   "outputs": [],
   "source": [
    "# Convert the dataset to a DataFrame and save it to a CSV file in the current folder\n",
    "\n",
    "df_LV_UK = pd.DataFrame(data_LV_UK[\"train\"]) #7741 rows\n",
    "df_LV_UK.to_csv(\"df_LV_UK.csv\")\n",
    "\n",
    "df_NAP_UK = pd.DataFrame(data_NAP_UK[\"train\"])  #56980 rows\n",
    "df_NAP_UK.to_csv(\"df_NAP_UK.csv\")\n",
    "\n",
    "\n",
    "\n",
    "df_Prada_UK = pd.DataFrame(data_Prada_UK[\"train\"]) #2180 rows\n",
    "df_Prada_UK.to_csv(\"df_Prada_UK.csv\")\n",
    "\n",
    "df_SL_UK = pd.DataFrame(data_SL_UK[\"train\"]) #3063 rows\n",
    "df_SL_UK.to_csv(\"df_SL_UK.csv\")\n",
    "\n",
    "df_Blickers_UK = pd.DataFrame(data_Blickers_UK[\"train\"]) #28256 rows\n",
    "df_Blickers_UK.to_csv(\"df_Blickers_UK.csv\")\n",
    "\n",
    "df_MT_UK = pd.DataFrame(data_MT_UK[\"train\"]) #97884 rows\n",
    "df_MT_UK.to_csv(\"df_MT_UK.csv\")\n",
    "\n",
    "df_Celine_UK = pd.DataFrame(data_Celine_UK[\"train\"]) #658 rows\n",
    "df_Celine_UK.to_csv(\"df_Celine_UK.csv\")\n",
    "\n",
    "df_Farfetch_UK = pd.DataFrame(data_Farfetch_UK[\"train\"]) #613571 rows\n",
    "df_Farfetch_UK.to_csv(\"df_Farfetch_UK.csv\")"
   ]
  },
  {
   "cell_type": "code",
   "execution_count": 36,
   "id": "55711eba",
   "metadata": {},
   "outputs": [
    {
     "data": {
      "text/html": [
       "<div>\n",
       "<style scoped>\n",
       "    .dataframe tbody tr th:only-of-type {\n",
       "        vertical-align: middle;\n",
       "    }\n",
       "\n",
       "    .dataframe tbody tr th {\n",
       "        vertical-align: top;\n",
       "    }\n",
       "\n",
       "    .dataframe thead th {\n",
       "        text-align: right;\n",
       "    }\n",
       "</style>\n",
       "<table border=\"1\" class=\"dataframe\">\n",
       "  <thead>\n",
       "    <tr style=\"text-align: right;\">\n",
       "      <th></th>\n",
       "      <th>website_name</th>\n",
       "      <th>competence_date</th>\n",
       "      <th>country_code</th>\n",
       "      <th>currency_code</th>\n",
       "      <th>brand</th>\n",
       "      <th>category1_code</th>\n",
       "      <th>category2_code</th>\n",
       "      <th>category3_code</th>\n",
       "      <th>product_code</th>\n",
       "      <th>title</th>\n",
       "      <th>itemurl</th>\n",
       "      <th>imageurl</th>\n",
       "      <th>full_price</th>\n",
       "      <th>price</th>\n",
       "      <th>full_price_eur</th>\n",
       "      <th>price_eur</th>\n",
       "      <th>flg_discount</th>\n",
       "    </tr>\n",
       "  </thead>\n",
       "  <tbody>\n",
       "    <tr>\n",
       "      <th>0</th>\n",
       "      <td>Farfetch</td>\n",
       "      <td>2023-11-17</td>\n",
       "      <td>GBR</td>\n",
       "      <td>GBP</td>\n",
       "      <td>IZZUE</td>\n",
       "      <td>CLOTHING</td>\n",
       "      <td>SWEATSHIRTS &amp; KNITWEAR</td>\n",
       "      <td>SWEATSHIRTS</td>\n",
       "      <td>17894038</td>\n",
       "      <td>embroidered-logo half-sleeves sweatshirt</td>\n",
       "      <td>http://www.farfetch.com/uk/shopping/men/izzue-...</td>\n",
       "      <td>https://cdn-images.farfetch-contents.com/17/89...</td>\n",
       "      <td>119.0</td>\n",
       "      <td>60.0</td>\n",
       "      <td>136.00</td>\n",
       "      <td>68.57</td>\n",
       "      <td>1</td>\n",
       "    </tr>\n",
       "    <tr>\n",
       "      <th>1</th>\n",
       "      <td>Farfetch</td>\n",
       "      <td>2023-11-17</td>\n",
       "      <td>GBR</td>\n",
       "      <td>GBP</td>\n",
       "      <td>EMPORIO ARMANI KIDS</td>\n",
       "      <td>TEEN BOY ACCESSORIES</td>\n",
       "      <td>TIES &amp; BOW TIES</td>\n",
       "      <td>None</td>\n",
       "      <td>19723836</td>\n",
       "      <td>silk waffle-effect bow-tie</td>\n",
       "      <td>http://www.farfetch.com/uk/shopping/kids/empor...</td>\n",
       "      <td>https://cdn-images.farfetch-contents.com/19/72...</td>\n",
       "      <td>80.0</td>\n",
       "      <td>40.0</td>\n",
       "      <td>91.42</td>\n",
       "      <td>45.71</td>\n",
       "      <td>1</td>\n",
       "    </tr>\n",
       "    <tr>\n",
       "      <th>2</th>\n",
       "      <td>Farfetch</td>\n",
       "      <td>2023-11-17</td>\n",
       "      <td>GBR</td>\n",
       "      <td>GBP</td>\n",
       "      <td>SERAX</td>\n",
       "      <td>HOMEWARE</td>\n",
       "      <td>TABLEWARE</td>\n",
       "      <td>CUPS &amp; TEA SETS</td>\n",
       "      <td>21067787</td>\n",
       "      <td>x Marni Midnight Flowers teacup and saucer</td>\n",
       "      <td>http://www.farfetch.com/uk/shopping/men/serax-...</td>\n",
       "      <td>https://cdn-images.farfetch-contents.com/21/06...</td>\n",
       "      <td>141.0</td>\n",
       "      <td>141.0</td>\n",
       "      <td>161.14</td>\n",
       "      <td>161.14</td>\n",
       "      <td>0</td>\n",
       "    </tr>\n",
       "    <tr>\n",
       "      <th>3</th>\n",
       "      <td>Farfetch</td>\n",
       "      <td>2023-11-17</td>\n",
       "      <td>GBR</td>\n",
       "      <td>GBP</td>\n",
       "      <td>DSQUARED2</td>\n",
       "      <td>CLOTHING</td>\n",
       "      <td>T-SHIRTS &amp; VESTS</td>\n",
       "      <td>T-SHIRTS</td>\n",
       "      <td>19775999</td>\n",
       "      <td>graphic-print T-shirt</td>\n",
       "      <td>http://www.farfetch.com/uk/shopping/men/dsquar...</td>\n",
       "      <td>https://cdn-images.farfetch-contents.com/19/77...</td>\n",
       "      <td>239.0</td>\n",
       "      <td>118.0</td>\n",
       "      <td>273.14</td>\n",
       "      <td>134.85</td>\n",
       "      <td>1</td>\n",
       "    </tr>\n",
       "    <tr>\n",
       "      <th>4</th>\n",
       "      <td>Farfetch</td>\n",
       "      <td>2023-11-17</td>\n",
       "      <td>GBR</td>\n",
       "      <td>GBP</td>\n",
       "      <td>ETRO</td>\n",
       "      <td>ACCESSORIES</td>\n",
       "      <td>SCARVES</td>\n",
       "      <td>None</td>\n",
       "      <td>20472171</td>\n",
       "      <td>paisley-print cashmere shawl</td>\n",
       "      <td>http://www.farfetch.com/uk/shopping/women/etro...</td>\n",
       "      <td>https://cdn-images.farfetch-contents.com/20/47...</td>\n",
       "      <td>560.0</td>\n",
       "      <td>560.0</td>\n",
       "      <td>640.00</td>\n",
       "      <td>640.00</td>\n",
       "      <td>0</td>\n",
       "    </tr>\n",
       "    <tr>\n",
       "      <th>...</th>\n",
       "      <td>...</td>\n",
       "      <td>...</td>\n",
       "      <td>...</td>\n",
       "      <td>...</td>\n",
       "      <td>...</td>\n",
       "      <td>...</td>\n",
       "      <td>...</td>\n",
       "      <td>...</td>\n",
       "      <td>...</td>\n",
       "      <td>...</td>\n",
       "      <td>...</td>\n",
       "      <td>...</td>\n",
       "      <td>...</td>\n",
       "      <td>...</td>\n",
       "      <td>...</td>\n",
       "      <td>...</td>\n",
       "      <td>...</td>\n",
       "    </tr>\n",
       "    <tr>\n",
       "      <th>613566</th>\n",
       "      <td>Farfetch</td>\n",
       "      <td>2023-11-17</td>\n",
       "      <td>GBR</td>\n",
       "      <td>GBP</td>\n",
       "      <td>LAPIN HOUSE</td>\n",
       "      <td>GIRLS CLOTHING</td>\n",
       "      <td>TROUSERS</td>\n",
       "      <td>TROUSER SETS</td>\n",
       "      <td>16916119</td>\n",
       "      <td>NYC hoodie tracksuit</td>\n",
       "      <td>http://www.farfetch.com/uk/shopping/kids/lapin...</td>\n",
       "      <td>https://cdn-images.farfetch-contents.com/16/91...</td>\n",
       "      <td>149.0</td>\n",
       "      <td>104.0</td>\n",
       "      <td>170.28</td>\n",
       "      <td>118.85</td>\n",
       "      <td>1</td>\n",
       "    </tr>\n",
       "    <tr>\n",
       "      <th>613567</th>\n",
       "      <td>Farfetch</td>\n",
       "      <td>2023-11-17</td>\n",
       "      <td>GBR</td>\n",
       "      <td>GBP</td>\n",
       "      <td>ISABEL MARANT</td>\n",
       "      <td>CLOTHING</td>\n",
       "      <td>TROUSERS</td>\n",
       "      <td>CROPPED TROUSERS</td>\n",
       "      <td>19628425</td>\n",
       "      <td>houndstooth-pattern cropped trousers</td>\n",
       "      <td>http://www.farfetch.com/uk/shopping/women/isab...</td>\n",
       "      <td>https://cdn-images.farfetch-contents.com/19/62...</td>\n",
       "      <td>480.0</td>\n",
       "      <td>384.0</td>\n",
       "      <td>548.57</td>\n",
       "      <td>438.85</td>\n",
       "      <td>1</td>\n",
       "    </tr>\n",
       "    <tr>\n",
       "      <th>613568</th>\n",
       "      <td>Farfetch</td>\n",
       "      <td>2023-11-17</td>\n",
       "      <td>GBR</td>\n",
       "      <td>GBP</td>\n",
       "      <td>CLAUDIE PIERLOT</td>\n",
       "      <td>CLOTHING</td>\n",
       "      <td>TROUSERS</td>\n",
       "      <td>FLARED TROUSERS</td>\n",
       "      <td>20287238</td>\n",
       "      <td>high-waisted velour bootcut trousers</td>\n",
       "      <td>http://www.farfetch.com/uk/shopping/women/clau...</td>\n",
       "      <td>https://cdn-images.farfetch-contents.com/20/28...</td>\n",
       "      <td>249.0</td>\n",
       "      <td>249.0</td>\n",
       "      <td>284.57</td>\n",
       "      <td>284.57</td>\n",
       "      <td>0</td>\n",
       "    </tr>\n",
       "    <tr>\n",
       "      <th>613569</th>\n",
       "      <td>Farfetch</td>\n",
       "      <td>2023-11-17</td>\n",
       "      <td>GBR</td>\n",
       "      <td>GBP</td>\n",
       "      <td>FENDI PRE-OWNED</td>\n",
       "      <td>PRE-OWNED</td>\n",
       "      <td>PRE-OWNED BAGS</td>\n",
       "      <td>None</td>\n",
       "      <td>22049391</td>\n",
       "      <td>x Sarah Coleman 2021 Vertigo Baguette bag</td>\n",
       "      <td>http://www.farfetch.com/uk/shopping/women/fend...</td>\n",
       "      <td>https://cdn-images.farfetch-contents.com/22/04...</td>\n",
       "      <td>1831.0</td>\n",
       "      <td>1831.0</td>\n",
       "      <td>2092.57</td>\n",
       "      <td>2092.57</td>\n",
       "      <td>0</td>\n",
       "    </tr>\n",
       "    <tr>\n",
       "      <th>613570</th>\n",
       "      <td>Farfetch</td>\n",
       "      <td>2023-11-17</td>\n",
       "      <td>GBR</td>\n",
       "      <td>GBP</td>\n",
       "      <td>MISSONI</td>\n",
       "      <td>CLOTHING</td>\n",
       "      <td>T-SHIRTS &amp; VESTS</td>\n",
       "      <td>T-SHIRTS</td>\n",
       "      <td>19418036</td>\n",
       "      <td>zigzag knitted T-shirt</td>\n",
       "      <td>http://www.farfetch.com/uk/shopping/men/misson...</td>\n",
       "      <td>https://cdn-images.farfetch-contents.com/19/41...</td>\n",
       "      <td>480.0</td>\n",
       "      <td>288.0</td>\n",
       "      <td>548.57</td>\n",
       "      <td>329.14</td>\n",
       "      <td>1</td>\n",
       "    </tr>\n",
       "  </tbody>\n",
       "</table>\n",
       "<p>613571 rows × 17 columns</p>\n",
       "</div>"
      ],
      "text/plain": [
       "       website_name competence_date country_code currency_code  \\\n",
       "0          Farfetch      2023-11-17          GBR           GBP   \n",
       "1          Farfetch      2023-11-17          GBR           GBP   \n",
       "2          Farfetch      2023-11-17          GBR           GBP   \n",
       "3          Farfetch      2023-11-17          GBR           GBP   \n",
       "4          Farfetch      2023-11-17          GBR           GBP   \n",
       "...             ...             ...          ...           ...   \n",
       "613566     Farfetch      2023-11-17          GBR           GBP   \n",
       "613567     Farfetch      2023-11-17          GBR           GBP   \n",
       "613568     Farfetch      2023-11-17          GBR           GBP   \n",
       "613569     Farfetch      2023-11-17          GBR           GBP   \n",
       "613570     Farfetch      2023-11-17          GBR           GBP   \n",
       "\n",
       "                      brand        category1_code          category2_code  \\\n",
       "0                     IZZUE              CLOTHING  SWEATSHIRTS & KNITWEAR   \n",
       "1       EMPORIO ARMANI KIDS  TEEN BOY ACCESSORIES         TIES & BOW TIES   \n",
       "2                     SERAX              HOMEWARE               TABLEWARE   \n",
       "3                 DSQUARED2              CLOTHING        T-SHIRTS & VESTS   \n",
       "4                      ETRO           ACCESSORIES                 SCARVES   \n",
       "...                     ...                   ...                     ...   \n",
       "613566          LAPIN HOUSE        GIRLS CLOTHING                TROUSERS   \n",
       "613567        ISABEL MARANT              CLOTHING                TROUSERS   \n",
       "613568      CLAUDIE PIERLOT              CLOTHING                TROUSERS   \n",
       "613569      FENDI PRE-OWNED             PRE-OWNED          PRE-OWNED BAGS   \n",
       "613570              MISSONI              CLOTHING        T-SHIRTS & VESTS   \n",
       "\n",
       "          category3_code  product_code  \\\n",
       "0            SWEATSHIRTS      17894038   \n",
       "1                   None      19723836   \n",
       "2        CUPS & TEA SETS      21067787   \n",
       "3               T-SHIRTS      19775999   \n",
       "4                   None      20472171   \n",
       "...                  ...           ...   \n",
       "613566      TROUSER SETS      16916119   \n",
       "613567  CROPPED TROUSERS      19628425   \n",
       "613568   FLARED TROUSERS      20287238   \n",
       "613569              None      22049391   \n",
       "613570          T-SHIRTS      19418036   \n",
       "\n",
       "                                             title  \\\n",
       "0        embroidered-logo half-sleeves sweatshirt    \n",
       "1                       silk waffle-effect bow-tie   \n",
       "2       x Marni Midnight Flowers teacup and saucer   \n",
       "3                            graphic-print T-shirt   \n",
       "4                     paisley-print cashmere shawl   \n",
       "...                                            ...   \n",
       "613566                        NYC hoodie tracksuit   \n",
       "613567        houndstooth-pattern cropped trousers   \n",
       "613568        high-waisted velour bootcut trousers   \n",
       "613569   x Sarah Coleman 2021 Vertigo Baguette bag   \n",
       "613570                      zigzag knitted T-shirt   \n",
       "\n",
       "                                                  itemurl  \\\n",
       "0       http://www.farfetch.com/uk/shopping/men/izzue-...   \n",
       "1       http://www.farfetch.com/uk/shopping/kids/empor...   \n",
       "2       http://www.farfetch.com/uk/shopping/men/serax-...   \n",
       "3       http://www.farfetch.com/uk/shopping/men/dsquar...   \n",
       "4       http://www.farfetch.com/uk/shopping/women/etro...   \n",
       "...                                                   ...   \n",
       "613566  http://www.farfetch.com/uk/shopping/kids/lapin...   \n",
       "613567  http://www.farfetch.com/uk/shopping/women/isab...   \n",
       "613568  http://www.farfetch.com/uk/shopping/women/clau...   \n",
       "613569  http://www.farfetch.com/uk/shopping/women/fend...   \n",
       "613570  http://www.farfetch.com/uk/shopping/men/misson...   \n",
       "\n",
       "                                                 imageurl  full_price   price  \\\n",
       "0       https://cdn-images.farfetch-contents.com/17/89...       119.0    60.0   \n",
       "1       https://cdn-images.farfetch-contents.com/19/72...        80.0    40.0   \n",
       "2       https://cdn-images.farfetch-contents.com/21/06...       141.0   141.0   \n",
       "3       https://cdn-images.farfetch-contents.com/19/77...       239.0   118.0   \n",
       "4       https://cdn-images.farfetch-contents.com/20/47...       560.0   560.0   \n",
       "...                                                   ...         ...     ...   \n",
       "613566  https://cdn-images.farfetch-contents.com/16/91...       149.0   104.0   \n",
       "613567  https://cdn-images.farfetch-contents.com/19/62...       480.0   384.0   \n",
       "613568  https://cdn-images.farfetch-contents.com/20/28...       249.0   249.0   \n",
       "613569  https://cdn-images.farfetch-contents.com/22/04...      1831.0  1831.0   \n",
       "613570  https://cdn-images.farfetch-contents.com/19/41...       480.0   288.0   \n",
       "\n",
       "        full_price_eur  price_eur  flg_discount  \n",
       "0               136.00      68.57             1  \n",
       "1                91.42      45.71             1  \n",
       "2               161.14     161.14             0  \n",
       "3               273.14     134.85             1  \n",
       "4               640.00     640.00             0  \n",
       "...                ...        ...           ...  \n",
       "613566          170.28     118.85             1  \n",
       "613567          548.57     438.85             1  \n",
       "613568          284.57     284.57             0  \n",
       "613569         2092.57    2092.57             0  \n",
       "613570          548.57     329.14             1  \n",
       "\n",
       "[613571 rows x 17 columns]"
      ]
     },
     "execution_count": 36,
     "metadata": {},
     "output_type": "execute_result"
    }
   ],
   "source": [
    "df_Farfetch_UK"
   ]
  },
  {
   "cell_type": "code",
   "execution_count": null,
   "id": "a5148edc",
   "metadata": {},
   "outputs": [],
   "source": []
  }
 ],
 "metadata": {
  "kernelspec": {
   "display_name": "Python 3 (ipykernel)",
   "language": "python",
   "name": "python3"
  },
  "language_info": {
   "codemirror_mode": {
    "name": "ipython",
    "version": 3
   },
   "file_extension": ".py",
   "mimetype": "text/x-python",
   "name": "python",
   "nbconvert_exporter": "python",
   "pygments_lexer": "ipython3",
   "version": "3.11.5"
  }
 },
 "nbformat": 4,
 "nbformat_minor": 5
}
